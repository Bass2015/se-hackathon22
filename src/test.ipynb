{
 "cells": [
  {
   "cell_type": "code",
   "execution_count": 1,
   "metadata": {},
   "outputs": [
    {
     "name": "stdout",
     "output_type": "stream",
     "text": [
      "Downloading https://www.cs.toronto.edu/~kriz/cifar-10-python.tar.gz to ./data/cifar-10-python.tar.gz\n"
     ]
    },
    {
     "data": {
      "application/vnd.jupyter.widget-view+json": {
       "model_id": "ad8bd772d0a04eee86e5b34d7947863b",
       "version_major": 2,
       "version_minor": 0
      },
      "text/plain": [
       "  0%|          | 0/170498071 [00:00<?, ?it/s]"
      ]
     },
     "metadata": {},
     "output_type": "display_data"
    },
    {
     "name": "stdout",
     "output_type": "stream",
     "text": [
      "Extracting ./data/cifar-10-python.tar.gz to ./data\n"
     ]
    }
   ],
   "source": [
    "import matplotlib.pyplot as plt # for plotting\n",
    "import numpy as np # for transformation\n",
    "\n",
    "import torch # PyTorch package\n",
    "import torchvision # load datasets\n",
    "import torchvision.transforms as transforms # transform data\n",
    "import torch.nn as nn # basic building block for neural neteorks\n",
    "import torch.nn.functional as F # import convolution functions like Relu\n",
    "import torch.optim as optim # optimzer\n",
    "\n",
    "transform = transforms.Compose( # composing several transforms together\n",
    "    [transforms.ToTensor(), # to tensor object\n",
    "     transforms.Normalize((0.5, 0.5, 0.5), (0.5, 0.5, 0.5))]) # mean = 0.5, std = 0.5\n",
    "\n",
    "# set batch_size\n",
    "batch_size = 4\n",
    "\n",
    "# set number of workers\n",
    "num_workers = 2\n",
    "\n",
    "# load train data\n",
    "trainset = torchvision.datasets.CIFAR10(root='./data', train=True,\n",
    "                                        download=True, transform=transform)\n",
    "trainloader = torch.utils.data.DataLoader(trainset, batch_size=batch_size,\n",
    "                                          shuffle=True, num_workers=num_workers)"
   ]
  },
  {
   "cell_type": "code",
   "execution_count": 2,
   "metadata": {},
   "outputs": [
    {
     "name": "stdout",
     "output_type": "stream",
     "text": [
      "Net(\n",
      "  (conv1): Conv2d(3, 6, kernel_size=(5, 5), stride=(1, 1))\n",
      "  (pool): MaxPool2d(kernel_size=2, stride=2, padding=0, dilation=1, ceil_mode=False)\n",
      "  (conv2): Conv2d(6, 16, kernel_size=(5, 5), stride=(1, 1))\n",
      "  (fc1): Linear(in_features=400, out_features=120, bias=True)\n",
      "  (fc2): Linear(in_features=120, out_features=84, bias=True)\n",
      "  (fc3): Linear(in_features=84, out_features=10, bias=True)\n",
      ")\n"
     ]
    }
   ],
   "source": [
    "class Net(nn.Module):\n",
    "    ''' Models a simple Convolutional Neural Network'''\n",
    "\t\n",
    "    def __init__(self):\n",
    "        super(Net, self).__init__()\n",
    "\t# 3 input image channel, 6 output channels, \n",
    "\t# 5x5 square convolution kernel\n",
    "        self.conv1 = nn.Conv2d(3, 6, 5)\n",
    "\t# Max pooling over a (2, 2) window\n",
    "        self.pool = nn.MaxPool2d(2, 2)\n",
    "        self.conv2 = nn.Conv2d(6, 16, 5) \n",
    "        self.fc1 = nn.Linear(16 * 5 * 5, 120)# 5x5 from image dimension\n",
    "        self.fc2 = nn.Linear(120, 84)\n",
    "        self.fc3 = nn.Linear(84, 10)\n",
    "\n",
    "    def forward(self, x):\n",
    "        x = self.pool(F.relu(self.conv1(x)))\n",
    "        x = self.pool(F.relu(self.conv2(x)))\n",
    "        x = x.view(-1, 16 * 5 * 5)\n",
    "        x = F.relu(self.fc1(x))\n",
    "        x = F.relu(self.fc2(x))\n",
    "        x = self.fc3(x)\n",
    "        return x\n",
    "\n",
    "net = Net()\n",
    "print(net)\n",
    "\n",
    "criterion = nn.CrossEntropyLoss()\n",
    "optimizer = optim.SGD(net.parameters(), lr=0.001, momentum=0.9)"
   ]
  },
  {
   "cell_type": "code",
   "execution_count": 4,
   "metadata": {},
   "outputs": [
    {
     "ename": "AttributeError",
     "evalue": "'list' object has no attribute 'shape'",
     "output_type": "error",
     "traceback": [
      "\u001b[0;31m---------------------------------------------------------------------------\u001b[0m",
      "\u001b[0;31mAttributeError\u001b[0m                            Traceback (most recent call last)",
      "\u001b[1;32m/Users/wildbass/Documents/DataScience/se-hackathon22/src/test.ipynb Celda 3\u001b[0m in \u001b[0;36m<cell line: 2>\u001b[0;34m()\u001b[0m\n\u001b[1;32m      <a href='vscode-notebook-cell:/Users/wildbass/Documents/DataScience/se-hackathon22/src/test.ipynb#W2sZmlsZQ%3D%3D?line=0'>1</a>\u001b[0m sample \u001b[39m=\u001b[39m \u001b[39mnext\u001b[39m(\u001b[39miter\u001b[39m(trainloader))\n\u001b[0;32m----> <a href='vscode-notebook-cell:/Users/wildbass/Documents/DataScience/se-hackathon22/src/test.ipynb#W2sZmlsZQ%3D%3D?line=1'>2</a>\u001b[0m sample\u001b[39m.\u001b[39;49mshape\n",
      "\u001b[0;31mAttributeError\u001b[0m: 'list' object has no attribute 'shape'"
     ]
    }
   ],
   "source": [
    "sample = next(iter(trainloader))"
   ]
  },
  {
   "cell_type": "code",
   "execution_count": 8,
   "metadata": {},
   "outputs": [
    {
     "data": {
      "text/plain": [
       "tensor([4, 8, 5, 1])"
      ]
     },
     "execution_count": 8,
     "metadata": {},
     "output_type": "execute_result"
    }
   ],
   "source": [
    "inputs, labels = sample\n",
    "labels"
   ]
  },
  {
   "cell_type": "code",
   "execution_count": 12,
   "metadata": {},
   "outputs": [
    {
     "data": {
      "text/plain": [
       "tensor([6, 6, 6, 6])"
      ]
     },
     "execution_count": 12,
     "metadata": {},
     "output_type": "execute_result"
    }
   ],
   "source": [
    "\n",
    "optimizer.zero_grad()\n",
    "\n",
    "# forward + backward + optimize\n",
    "outputs = net(inputs)\n",
    "_, indices = torch.max(outputs, 1)\n",
    "indices"
   ]
  },
  {
   "cell_type": "code",
   "execution_count": 13,
   "metadata": {},
   "outputs": [
    {
     "data": {
      "text/plain": [
       "tensor([[-0.0164, -0.0374, -0.0895, -0.0345,  0.0243,  0.0585,  0.0728, -0.0640,\n",
       "         -0.0766, -0.0260],\n",
       "        [-0.0058, -0.0459, -0.0959, -0.0396,  0.0344,  0.0671,  0.0759, -0.0691,\n",
       "         -0.0715, -0.0195],\n",
       "        [-0.0025, -0.0425, -0.1001, -0.0422,  0.0408,  0.0661,  0.0775, -0.0579,\n",
       "         -0.0747, -0.0199],\n",
       "        [ 0.0022, -0.0325, -0.0983, -0.0432,  0.0289,  0.0599,  0.0838, -0.0710,\n",
       "         -0.0721, -0.0218]], grad_fn=<AddmmBackward0>)"
      ]
     },
     "execution_count": 13,
     "metadata": {},
     "output_type": "execute_result"
    }
   ],
   "source": [
    "outputs"
   ]
  },
  {
   "cell_type": "code",
   "execution_count": 14,
   "metadata": {},
   "outputs": [
    {
     "data": {
      "text/plain": [
       "tensor(2.2906, grad_fn=<NllLossBackward0>)"
      ]
     },
     "execution_count": 14,
     "metadata": {},
     "output_type": "execute_result"
    }
   ],
   "source": [
    "loss = criterion(outputs, labels)\n",
    "loss.backward()\n",
    "optimizer.step()\n",
    "loss"
   ]
  },
  {
   "cell_type": "code",
   "execution_count": 15,
   "metadata": {},
   "outputs": [
    {
     "data": {
      "text/plain": [
       "tensor([[-1.5247, -0.5842, -0.9288,  0.5530,  0.1743],\n",
       "        [ 0.5449,  1.5820,  1.1140,  1.9843,  0.5505],\n",
       "        [-0.6597,  1.2930,  1.3542,  0.7932,  2.0719]], requires_grad=True)"
      ]
     },
     "execution_count": 15,
     "metadata": {},
     "output_type": "execute_result"
    }
   ],
   "source": [
    "# Example of target with class indices\n",
    "loss = nn.CrossEntropyLoss()\n",
    "input = torch.randn(3, 5, requires_grad=True)\n",
    "target = torch.empty(3, dtype=torch.long).random_(5)\n",
    "output = loss(input, target)\n",
    "output.backward()\n",
    "input\n",
    "\n"
   ]
  },
  {
   "cell_type": "code",
   "execution_count": 16,
   "metadata": {},
   "outputs": [
    {
     "data": {
      "text/plain": [
       "tensor([1, 2, 2])"
      ]
     },
     "execution_count": 16,
     "metadata": {},
     "output_type": "execute_result"
    }
   ],
   "source": [
    "target"
   ]
  },
  {
   "cell_type": "code",
   "execution_count": 17,
   "metadata": {},
   "outputs": [
    {
     "data": {
      "text/plain": [
       "tensor([[ 0.4284,  0.0989, -0.3677, -1.3392,  1.4344],\n",
       "        [-0.0558, -0.4223, -0.2999, -1.4364, -0.2017],\n",
       "        [-1.7763, -0.9488, -1.5666, -0.5978, -0.1989]], requires_grad=True)"
      ]
     },
     "execution_count": 17,
     "metadata": {},
     "output_type": "execute_result"
    }
   ],
   "source": [
    "# Example of target with class probabilities\n",
    "input = torch.randn(3, 5, requires_grad=True)\n",
    "target = torch.randn(3, 5).softmax(dim=1)\n",
    "output = loss(input, target)\n",
    "output.backward()\n",
    "input"
   ]
  },
  {
   "cell_type": "code",
   "execution_count": 18,
   "metadata": {},
   "outputs": [
    {
     "data": {
      "text/plain": [
       "tensor([[0.0685, 0.4091, 0.1139, 0.2584, 0.1501],\n",
       "        [0.1065, 0.2762, 0.0805, 0.3167, 0.2202],\n",
       "        [0.0388, 0.2279, 0.1018, 0.0873, 0.5443]])"
      ]
     },
     "execution_count": 18,
     "metadata": {},
     "output_type": "execute_result"
    }
   ],
   "source": [
    "target"
   ]
  },
  {
   "cell_type": "code",
   "execution_count": 27,
   "metadata": {},
   "outputs": [],
   "source": [
    "import torch\n",
    "import pandas as pd\n",
    "from model import Net, Trainer\n",
    "from data_manager import LoaderFactory\n",
    "\n",
    "MODEL_PATH = '../saved_model/model.pth'\n",
    "\n",
    "\n",
    "TRAIN_DATA = '../data/train.csv'\n",
    "TEST_DATA = '../data/test.csv'\n",
    "TRAIN_IMG = '../data/train_test_data/train/'\n",
    "\n",
    "\n",
    "    # load data\n",
    "def split_data_frame(df, train_frac=0.8):\n",
    "    train = df.sample(frac=train_frac).reset_index()\n",
    "    test = df.drop(train.index).reset_index()\n",
    "    return train, test\n",
    "    \n",
    "train_df, test_df = split_data_frame(pd.read_csv(TRAIN_DATA))\n",
    "loader_fact = LoaderFactory()\n",
    "train_DL = loader_fact.get_data_loader('../data/', train_df, train=True)\n",
    "test_DL = loader_fact.get_data_loader('../data/', train_df, train=True)"
   ]
  },
  {
   "cell_type": "code",
   "execution_count": 28,
   "metadata": {},
   "outputs": [
    {
     "data": {
      "text/plain": [
       "0       0\n",
       "1       0\n",
       "2       2\n",
       "3       2\n",
       "4       2\n",
       "       ..\n",
       "1366    0\n",
       "1367    1\n",
       "1368    2\n",
       "1369    0\n",
       "1370    1\n",
       "Name: label, Length: 1371, dtype: int64"
      ]
     },
     "execution_count": 28,
     "metadata": {},
     "output_type": "execute_result"
    }
   ],
   "source": [
    "train_DL.dataset.labels"
   ]
  },
  {
   "cell_type": "code",
   "execution_count": 29,
   "metadata": {},
   "outputs": [
    {
     "data": {
      "text/plain": [
       "{'image': tensor([[[[-1.0000, -0.8588, -0.8431,  ..., -1.0000, -1.0000, -1.0000],\n",
       "           [-1.0000, -0.8431, -0.8196,  ..., -0.8667, -0.8510, -0.8510],\n",
       "           [-1.0000, -0.8510, -0.8431,  ..., -0.8667, -0.8667, -0.8588],\n",
       "           ...,\n",
       "           [-0.7961, -0.7882, -0.7804,  ..., -0.8588, -0.8667, -1.0000],\n",
       "           [-0.7882, -0.7804, -0.7882,  ..., -0.8353, -0.8510, -1.0000],\n",
       "           [-1.0000, -1.0000, -1.0000,  ..., -0.8196, -0.8353, -1.0000]],\n",
       " \n",
       "          [[-1.0000, -0.7725, -0.7490,  ..., -1.0000, -1.0000, -1.0000],\n",
       "           [-1.0000, -0.7490, -0.7333,  ..., -0.7961, -0.7882, -0.7804],\n",
       "           [-1.0000, -0.7647, -0.7490,  ..., -0.7961, -0.7961, -0.7882],\n",
       "           ...,\n",
       "           [-0.7255, -0.7020, -0.6863,  ..., -0.7647, -0.7725, -1.0000],\n",
       "           [-0.7176, -0.6941, -0.6941,  ..., -0.7333, -0.7569, -1.0000],\n",
       "           [-1.0000, -1.0000, -1.0000,  ..., -0.7176, -0.7333, -1.0000]],\n",
       " \n",
       "          [[-1.0000, -0.8510, -0.8275,  ..., -1.0000, -1.0000, -1.0000],\n",
       "           [-1.0000, -0.8196, -0.8039,  ..., -0.8667, -0.8588, -0.8510],\n",
       "           [-1.0000, -0.8118, -0.8118,  ..., -0.8667, -0.8667, -0.8667],\n",
       "           ...,\n",
       "           [-0.8588, -0.8510, -0.8353,  ..., -0.8745, -0.8902, -1.0000],\n",
       "           [-0.8510, -0.8353, -0.8431,  ..., -0.8510, -0.8745, -1.0000],\n",
       "           [-1.0000, -1.0000, -1.0000,  ..., -0.8431, -0.8588, -1.0000]]],\n",
       " \n",
       " \n",
       "         [[[-1.0000, -1.0000, -0.7569,  ..., -1.0000, -1.0000, -1.0000],\n",
       "           [-1.0000, -1.0000, -0.7569,  ..., -1.0000, -1.0000, -1.0000],\n",
       "           [-1.0000, -1.0000, -0.7569,  ..., -0.8196, -0.8431, -0.8431],\n",
       "           ...,\n",
       "           [-0.7804, -0.7804, -0.7882,  ..., -0.8039, -1.0000, -1.0000],\n",
       "           [-1.0000, -1.0000, -1.0000,  ..., -0.8431, -1.0000, -1.0000],\n",
       "           [-1.0000, -1.0000, -1.0000,  ..., -0.8431, -1.0000, -1.0000]],\n",
       " \n",
       "          [[-1.0000, -1.0000, -0.7255,  ..., -1.0000, -1.0000, -1.0000],\n",
       "           [-1.0000, -1.0000, -0.7333,  ..., -1.0000, -1.0000, -1.0000],\n",
       "           [-1.0000, -1.0000, -0.7333,  ..., -0.7804, -0.7961, -0.7961],\n",
       "           ...,\n",
       "           [-0.7020, -0.7098, -0.7098,  ..., -0.7098, -1.0000, -1.0000],\n",
       "           [-1.0000, -1.0000, -1.0000,  ..., -0.7412, -1.0000, -1.0000],\n",
       "           [-1.0000, -1.0000, -1.0000,  ..., -0.7333, -1.0000, -1.0000]],\n",
       " \n",
       "          [[-1.0000, -1.0000, -0.8667,  ..., -1.0000, -1.0000, -1.0000],\n",
       "           [-1.0000, -1.0000, -0.8667,  ..., -1.0000, -1.0000, -1.0000],\n",
       "           [-1.0000, -1.0000, -0.8588,  ..., -0.8667, -0.8824, -0.8824],\n",
       "           ...,\n",
       "           [-0.8196, -0.8275, -0.8275,  ..., -0.8353, -1.0000, -1.0000],\n",
       "           [-1.0000, -1.0000, -1.0000,  ..., -0.8431, -1.0000, -1.0000],\n",
       "           [-1.0000, -1.0000, -1.0000,  ..., -0.8431, -1.0000, -1.0000]]],\n",
       " \n",
       " \n",
       "         [[[-0.6471, -0.6471, -0.6941,  ..., -0.8275, -0.8196, -0.7569],\n",
       "           [-0.6392, -0.6471, -0.6863,  ..., -0.7961, -0.8118, -0.7882],\n",
       "           [-0.6549, -0.6706, -0.6941,  ..., -0.7882, -0.7804, -0.7333],\n",
       "           ...,\n",
       "           [-0.6706, -0.7882, -0.7725,  ..., -0.8039, -0.7882, -0.7882],\n",
       "           [-0.7098, -0.7098, -0.7725,  ..., -0.8039, -0.8039, -0.8039],\n",
       "           [-0.6627, -0.6863, -0.7333,  ..., -0.8353, -0.8431, -0.8275]],\n",
       " \n",
       "          [[-0.6392, -0.6314, -0.6235,  ..., -0.7098, -0.7020, -0.6314],\n",
       "           [-0.6314, -0.6078, -0.6392,  ..., -0.6706, -0.6784, -0.6627],\n",
       "           [-0.6392, -0.6157, -0.6863,  ..., -0.6706, -0.6627, -0.6078],\n",
       "           ...,\n",
       "           [-0.6392, -0.7176, -0.7176,  ..., -0.7020, -0.6941, -0.6863],\n",
       "           [-0.6627, -0.6392, -0.6863,  ..., -0.7098, -0.7020, -0.7020],\n",
       "           [-0.6078, -0.6235, -0.6549,  ..., -0.7412, -0.7412, -0.7255]],\n",
       " \n",
       "          [[-0.7333, -0.7255, -0.7098,  ..., -0.8902, -0.8745, -0.8039],\n",
       "           [-0.7176, -0.6941, -0.7333,  ..., -0.8588, -0.8667, -0.8431],\n",
       "           [-0.7255, -0.7020, -0.7804,  ..., -0.8431, -0.8353, -0.7961],\n",
       "           ...,\n",
       "           [-0.7647, -0.8745, -0.8667,  ..., -0.8510, -0.8431, -0.8353],\n",
       "           [-0.7412, -0.6941, -0.7647,  ..., -0.8510, -0.8431, -0.8431],\n",
       "           [-0.6784, -0.7098, -0.6863,  ..., -0.8824, -0.8902, -0.8745]]],\n",
       " \n",
       " \n",
       "         ...,\n",
       " \n",
       " \n",
       "         [[[-1.0000, -0.7098, -0.6941,  ..., -1.0000, -1.0000, -1.0000],\n",
       "           [-1.0000, -0.7176, -0.7255,  ..., -0.6471, -0.6314, -0.6627],\n",
       "           [-1.0000, -0.7333, -0.7020,  ..., -0.6471, -0.6314, -0.6627],\n",
       "           ...,\n",
       "           [-0.8745, -0.8745, -0.8745,  ..., -0.7333, -0.7333, -1.0000],\n",
       "           [-0.8745, -0.8745, -0.8745,  ..., -0.7412, -0.7490, -1.0000],\n",
       "           [-1.0000, -1.0000, -1.0000,  ..., -0.7647, -0.7804, -1.0000]],\n",
       " \n",
       "          [[-1.0000, -0.7412, -0.7255,  ..., -1.0000, -1.0000, -1.0000],\n",
       "           [-1.0000, -0.7176, -0.7333,  ..., -0.6784, -0.6941, -0.6941],\n",
       "           [-1.0000, -0.7333, -0.7255,  ..., -0.6863, -0.6863, -0.6863],\n",
       "           ...,\n",
       "           [-0.7961, -0.8039, -0.7961,  ..., -0.7725, -0.7725, -1.0000],\n",
       "           [-0.7961, -0.7961, -0.7961,  ..., -0.7333, -0.7255, -1.0000],\n",
       "           [-1.0000, -1.0000, -1.0000,  ..., -0.6941, -0.7020, -1.0000]],\n",
       " \n",
       "          [[-1.0000, -0.8902, -0.8510,  ..., -1.0000, -1.0000, -1.0000],\n",
       "           [-1.0000, -0.8510, -0.8745,  ..., -0.8118, -0.8275, -0.8196],\n",
       "           [-1.0000, -0.8667, -0.8353,  ..., -0.8196, -0.8118, -0.8039],\n",
       "           ...,\n",
       "           [-0.8902, -0.8902, -0.8902,  ..., -0.8039, -0.8118, -1.0000],\n",
       "           [-0.8902, -0.8980, -0.8980,  ..., -0.8196, -0.8196, -1.0000],\n",
       "           [-1.0000, -1.0000, -1.0000,  ..., -0.8431, -0.8510, -1.0000]]],\n",
       " \n",
       " \n",
       "         [[[-1.0000, -0.7647, -0.7804,  ..., -1.0000, -1.0000, -1.0000],\n",
       "           [-1.0000, -0.7647, -0.7804,  ..., -0.8745, -0.8980, -0.8824],\n",
       "           [-1.0000, -0.7725, -0.7882,  ..., -0.8745, -0.8902, -0.8824],\n",
       "           ...,\n",
       "           [-0.6627, -0.4745, -0.6314,  ..., -0.8510, -0.8431, -1.0000],\n",
       "           [-0.6392, -0.5059, -0.5608,  ..., -0.8510, -0.8431, -1.0000],\n",
       "           [-1.0000, -1.0000, -1.0000,  ..., -0.8431, -0.8431, -1.0000]],\n",
       " \n",
       "          [[-1.0000, -0.7333, -0.7647,  ..., -1.0000, -1.0000, -1.0000],\n",
       "           [-1.0000, -0.7333, -0.7490,  ..., -0.8196, -0.8431, -0.8353],\n",
       "           [-1.0000, -0.7176, -0.7490,  ..., -0.8196, -0.8431, -0.8275],\n",
       "           ...,\n",
       "           [-0.6549, -0.5216, -0.6235,  ..., -0.7961, -0.7804, -1.0000],\n",
       "           [-0.6627, -0.5373, -0.5843,  ..., -0.7804, -0.7882, -1.0000],\n",
       "           [-1.0000, -1.0000, -1.0000,  ..., -0.7804, -0.7804, -1.0000]],\n",
       " \n",
       "          [[-1.0000, -0.8510, -0.8824,  ..., -1.0000, -1.0000, -1.0000],\n",
       "           [-1.0000, -0.8667, -0.8667,  ..., -0.9137, -0.9451, -0.9294],\n",
       "           [-1.0000, -0.8510, -0.8667,  ..., -0.9137, -0.9373, -0.9216],\n",
       "           ...,\n",
       "           [-0.7882, -0.6549, -0.7490,  ..., -0.8980, -0.8902, -1.0000],\n",
       "           [-0.7961, -0.6627, -0.7020,  ..., -0.8745, -0.8745, -1.0000],\n",
       "           [-1.0000, -1.0000, -1.0000,  ..., -0.8588, -0.8667, -1.0000]]],\n",
       " \n",
       " \n",
       "         [[[-0.8510, -0.8431, -0.8353,  ..., -0.8118, -0.8039, -0.7725],\n",
       "           [-0.8510, -0.8510, -0.8431,  ..., -0.8353, -0.8039, -0.7647],\n",
       "           [-0.8353, -0.8431, -0.8431,  ..., -0.8431, -0.7882, -0.7882],\n",
       "           ...,\n",
       "           [-0.8353, -0.8353, -0.8275,  ..., -0.7961, -0.7961, -0.7725],\n",
       "           [-0.8431, -0.8431, -0.8431,  ..., -0.8196, -0.8196, -0.7961],\n",
       "           [-0.8510, -0.8588, -0.8588,  ..., -0.7804, -0.7882, -0.7725]],\n",
       " \n",
       "          [[-0.7647, -0.7569, -0.7490,  ..., -0.7333, -0.7255, -0.6471],\n",
       "           [-0.7725, -0.7647, -0.7569,  ..., -0.7490, -0.7412, -0.6471],\n",
       "           [-0.7569, -0.7569, -0.7490,  ..., -0.7412, -0.7333, -0.6863],\n",
       "           ...,\n",
       "           [-0.7412, -0.7569, -0.7569,  ..., -0.6627, -0.6549, -0.6078],\n",
       "           [-0.7490, -0.7647, -0.7647,  ..., -0.6784, -0.6784, -0.6235],\n",
       "           [-0.7490, -0.7647, -0.7804,  ..., -0.6471, -0.6471, -0.6078]],\n",
       " \n",
       "          [[-0.8588, -0.8510, -0.8510,  ..., -0.8353, -0.8275, -0.7412],\n",
       "           [-0.8588, -0.8667, -0.8588,  ..., -0.8510, -0.8510, -0.7490],\n",
       "           [-0.8510, -0.8588, -0.8588,  ..., -0.8510, -0.8431, -0.7882],\n",
       "           ...,\n",
       "           [-0.8039, -0.7882, -0.7804,  ..., -0.7255, -0.7333, -0.5922],\n",
       "           [-0.7961, -0.7961, -0.7961,  ..., -0.7490, -0.7569, -0.6157],\n",
       "           [-0.7882, -0.8039, -0.8196,  ..., -0.7176, -0.7255, -0.6078]]]]),\n",
       " 'labels': tensor([0, 0, 0, 2, 2, 0, 0, 2, 0, 2, 1, 0, 2, 0, 2, 0, 0, 0, 1, 2])}"
      ]
     },
     "execution_count": 29,
     "metadata": {},
     "output_type": "execute_result"
    }
   ],
   "source": [
    "next(iter(train_DL))"
   ]
  },
  {
   "cell_type": "code",
   "execution_count": null,
   "metadata": {},
   "outputs": [],
   "source": [
    "   # train splited data\n",
    "    splited_net = Net((3, 332, 332), classes=3)\n",
    "    trainer = Trainer(splited_net, train_DL)\n",
    "    trainer.train()\n",
    "    y_pred, y_true = splited_net.predict(test_DL)\n",
    "    score = splited_net.score(y_pred, y_true)\n",
    "    print(f'Finished training, F1 score (macro) of {score}')\n",
    "        # train\n",
    "        # predict    \n",
    "        # calcualte f1 score\n",
    "\n",
    "    # train whole data\n",
    "    # save model\n",
    "        # torch.save(net.state_dict(), MODEL_PATH)    \n",
    "    # predict+save predictions"
   ]
  }
 ],
 "metadata": {
  "kernelspec": {
   "display_name": "Python 3.10.4 ('ds')",
   "language": "python",
   "name": "python3"
  },
  "language_info": {
   "codemirror_mode": {
    "name": "ipython",
    "version": 3
   },
   "file_extension": ".py",
   "mimetype": "text/x-python",
   "name": "python",
   "nbconvert_exporter": "python",
   "pygments_lexer": "ipython3",
   "version": "3.10.4"
  },
  "orig_nbformat": 4,
  "vscode": {
   "interpreter": {
    "hash": "51fb76d8006b5ab0e0c4fcd365bc9e8f1c8f496fafcc4f75d4d513b2517b500d"
   }
  }
 },
 "nbformat": 4,
 "nbformat_minor": 2
}
