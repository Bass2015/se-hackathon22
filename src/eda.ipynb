{
 "cells": [
  {
   "cell_type": "code",
   "execution_count": 1,
   "metadata": {},
   "outputs": [],
   "source": [
    "import pandas as pd\n",
    "import numpy as np\n",
    "import plotly.express as px\n",
    "from PIL import Image\n",
    "\n",
    "import torch\n",
    "import torchvision\n",
    "import torchvision.transforms as transforms\n",
    "from torch import nn\n",
    "from torch.nn import functional as F\n",
    "from torch import optim\n",
    "\n",
    "from torch.utils.data import DataLoader,Dataset, random_split\n",
    "\n",
    "from sklearn.model_selection import train_test_split\n"
   ]
  },
  {
   "cell_type": "code",
   "execution_count": 2,
   "metadata": {},
   "outputs": [],
   "source": [
    "TRAIN_DATA = '../data/train.csv'\n",
    "TEST_DATA = '../data/test.csv'\n",
    "TRAIN_IMG = '../data/train_test_data/train/'"
   ]
  },
  {
   "cell_type": "code",
   "execution_count": 3,
   "metadata": {},
   "outputs": [
    {
     "data": {
      "text/html": [
       "<div>\n",
       "<style scoped>\n",
       "    .dataframe tbody tr th:only-of-type {\n",
       "        vertical-align: middle;\n",
       "    }\n",
       "\n",
       "    .dataframe tbody tr th {\n",
       "        vertical-align: top;\n",
       "    }\n",
       "\n",
       "    .dataframe thead th {\n",
       "        text-align: right;\n",
       "    }\n",
       "</style>\n",
       "<table border=\"1\" class=\"dataframe\">\n",
       "  <thead>\n",
       "    <tr style=\"text-align: right;\">\n",
       "      <th></th>\n",
       "      <th>label</th>\n",
       "      <th>latitude</th>\n",
       "      <th>longitude</th>\n",
       "      <th>year</th>\n",
       "      <th>example_path</th>\n",
       "    </tr>\n",
       "  </thead>\n",
       "  <tbody>\n",
       "    <tr>\n",
       "      <th>0</th>\n",
       "      <td>0</td>\n",
       "      <td>-2.051853</td>\n",
       "      <td>111.826093</td>\n",
       "      <td>2001</td>\n",
       "      <td>train_test_data/train/1297.png</td>\n",
       "    </tr>\n",
       "    <tr>\n",
       "      <th>1</th>\n",
       "      <td>2</td>\n",
       "      <td>-1.989349</td>\n",
       "      <td>105.309496</td>\n",
       "      <td>2013</td>\n",
       "      <td>train_test_data/train/1199.png</td>\n",
       "    </tr>\n",
       "    <tr>\n",
       "      <th>2</th>\n",
       "      <td>0</td>\n",
       "      <td>1.223256</td>\n",
       "      <td>100.702217</td>\n",
       "      <td>2014</td>\n",
       "      <td>train_test_data/train/1348.png</td>\n",
       "    </tr>\n",
       "    <tr>\n",
       "      <th>3</th>\n",
       "      <td>0</td>\n",
       "      <td>-2.342948</td>\n",
       "      <td>103.890226</td>\n",
       "      <td>2008</td>\n",
       "      <td>train_test_data/train/2214.png</td>\n",
       "    </tr>\n",
       "    <tr>\n",
       "      <th>4</th>\n",
       "      <td>0</td>\n",
       "      <td>-0.126555</td>\n",
       "      <td>101.758175</td>\n",
       "      <td>2011</td>\n",
       "      <td>train_test_data/train/2220.png</td>\n",
       "    </tr>\n",
       "  </tbody>\n",
       "</table>\n",
       "</div>"
      ],
      "text/plain": [
       "   label  latitude   longitude  year                    example_path\n",
       "0      0 -2.051853  111.826093  2001  train_test_data/train/1297.png\n",
       "1      2 -1.989349  105.309496  2013  train_test_data/train/1199.png\n",
       "2      0  1.223256  100.702217  2014  train_test_data/train/1348.png\n",
       "3      0 -2.342948  103.890226  2008  train_test_data/train/2214.png\n",
       "4      0 -0.126555  101.758175  2011  train_test_data/train/2220.png"
      ]
     },
     "execution_count": 3,
     "metadata": {},
     "output_type": "execute_result"
    }
   ],
   "source": [
    "train_df = pd.read_csv(TRAIN_DATA)\n",
    "train_df.head()"
   ]
  },
  {
   "cell_type": "code",
   "execution_count": 4,
   "metadata": {},
   "outputs": [
    {
     "data": {
      "text/html": [
       "<div>\n",
       "<style scoped>\n",
       "    .dataframe tbody tr th:only-of-type {\n",
       "        vertical-align: middle;\n",
       "    }\n",
       "\n",
       "    .dataframe tbody tr th {\n",
       "        vertical-align: top;\n",
       "    }\n",
       "\n",
       "    .dataframe thead th {\n",
       "        text-align: right;\n",
       "    }\n",
       "</style>\n",
       "<table border=\"1\" class=\"dataframe\">\n",
       "  <thead>\n",
       "    <tr style=\"text-align: right;\">\n",
       "      <th></th>\n",
       "      <th>latitude</th>\n",
       "      <th>longitude</th>\n",
       "      <th>year</th>\n",
       "      <th>example_path</th>\n",
       "    </tr>\n",
       "  </thead>\n",
       "  <tbody>\n",
       "    <tr>\n",
       "      <th>0</th>\n",
       "      <td>0.761681</td>\n",
       "      <td>122.755954</td>\n",
       "      <td>2006</td>\n",
       "      <td>train_test_data/test/69.png</td>\n",
       "    </tr>\n",
       "    <tr>\n",
       "      <th>1</th>\n",
       "      <td>-8.059785</td>\n",
       "      <td>113.053791</td>\n",
       "      <td>2007</td>\n",
       "      <td>train_test_data/test/469.png</td>\n",
       "    </tr>\n",
       "    <tr>\n",
       "      <th>2</th>\n",
       "      <td>-2.006610</td>\n",
       "      <td>111.746316</td>\n",
       "      <td>2002</td>\n",
       "      <td>train_test_data/test/6.png</td>\n",
       "    </tr>\n",
       "    <tr>\n",
       "      <th>3</th>\n",
       "      <td>0.901765</td>\n",
       "      <td>114.042495</td>\n",
       "      <td>2016</td>\n",
       "      <td>train_test_data/test/351.png</td>\n",
       "    </tr>\n",
       "    <tr>\n",
       "      <th>4</th>\n",
       "      <td>1.911210</td>\n",
       "      <td>100.829633</td>\n",
       "      <td>2008</td>\n",
       "      <td>train_test_data/test/1001.png</td>\n",
       "    </tr>\n",
       "  </tbody>\n",
       "</table>\n",
       "</div>"
      ],
      "text/plain": [
       "   latitude   longitude  year                   example_path\n",
       "0  0.761681  122.755954  2006    train_test_data/test/69.png\n",
       "1 -8.059785  113.053791  2007   train_test_data/test/469.png\n",
       "2 -2.006610  111.746316  2002     train_test_data/test/6.png\n",
       "3  0.901765  114.042495  2016   train_test_data/test/351.png\n",
       "4  1.911210  100.829633  2008  train_test_data/test/1001.png"
      ]
     },
     "execution_count": 4,
     "metadata": {},
     "output_type": "execute_result"
    }
   ],
   "source": [
    "test_df = pd.read_csv(TEST_DATA)\n",
    "test_df.head()"
   ]
  },
  {
   "cell_type": "code",
   "execution_count": 5,
   "metadata": {},
   "outputs": [
    {
     "data": {
      "application/vnd.plotly.v1+json": {
       "config": {
        "plotlyServerURL": "https://plot.ly"
       },
       "data": [
        {
         "hovertemplate": "x: %{x}<br>y: %{y}<br>color: [%{z[0]}, %{z[1]}, %{z[2]}]<extra></extra>",
         "name": "0",
         "source": "data:image/png;base64,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",
         "type": "image",
         "xaxis": "x",
         "yaxis": "y"
        }
       ],
       "layout": {
        "margin": {
         "t": 60
        },
        "template": {
         "data": {
          "bar": [
           {
            "error_x": {
             "color": "#2a3f5f"
            },
            "error_y": {
             "color": "#2a3f5f"
            },
            "marker": {
             "line": {
              "color": "#E5ECF6",
              "width": 0.5
             },
             "pattern": {
              "fillmode": "overlay",
              "size": 10,
              "solidity": 0.2
             }
            },
            "type": "bar"
           }
          ],
          "barpolar": [
           {
            "marker": {
             "line": {
              "color": "#E5ECF6",
              "width": 0.5
             },
             "pattern": {
              "fillmode": "overlay",
              "size": 10,
              "solidity": 0.2
             }
            },
            "type": "barpolar"
           }
          ],
          "carpet": [
           {
            "aaxis": {
             "endlinecolor": "#2a3f5f",
             "gridcolor": "white",
             "linecolor": "white",
             "minorgridcolor": "white",
             "startlinecolor": "#2a3f5f"
            },
            "baxis": {
             "endlinecolor": "#2a3f5f",
             "gridcolor": "white",
             "linecolor": "white",
             "minorgridcolor": "white",
             "startlinecolor": "#2a3f5f"
            },
            "type": "carpet"
           }
          ],
          "choropleth": [
           {
            "colorbar": {
             "outlinewidth": 0,
             "ticks": ""
            },
            "type": "choropleth"
           }
          ],
          "contour": [
           {
            "colorbar": {
             "outlinewidth": 0,
             "ticks": ""
            },
            "colorscale": [
             [
              0,
              "#0d0887"
             ],
             [
              0.1111111111111111,
              "#46039f"
             ],
             [
              0.2222222222222222,
              "#7201a8"
             ],
             [
              0.3333333333333333,
              "#9c179e"
             ],
             [
              0.4444444444444444,
              "#bd3786"
             ],
             [
              0.5555555555555556,
              "#d8576b"
             ],
             [
              0.6666666666666666,
              "#ed7953"
             ],
             [
              0.7777777777777778,
              "#fb9f3a"
             ],
             [
              0.8888888888888888,
              "#fdca26"
             ],
             [
              1,
              "#f0f921"
             ]
            ],
            "type": "contour"
           }
          ],
          "contourcarpet": [
           {
            "colorbar": {
             "outlinewidth": 0,
             "ticks": ""
            },
            "type": "contourcarpet"
           }
          ],
          "heatmap": [
           {
            "colorbar": {
             "outlinewidth": 0,
             "ticks": ""
            },
            "colorscale": [
             [
              0,
              "#0d0887"
             ],
             [
              0.1111111111111111,
              "#46039f"
             ],
             [
              0.2222222222222222,
              "#7201a8"
             ],
             [
              0.3333333333333333,
              "#9c179e"
             ],
             [
              0.4444444444444444,
              "#bd3786"
             ],
             [
              0.5555555555555556,
              "#d8576b"
             ],
             [
              0.6666666666666666,
              "#ed7953"
             ],
             [
              0.7777777777777778,
              "#fb9f3a"
             ],
             [
              0.8888888888888888,
              "#fdca26"
             ],
             [
              1,
              "#f0f921"
             ]
            ],
            "type": "heatmap"
           }
          ],
          "heatmapgl": [
           {
            "colorbar": {
             "outlinewidth": 0,
             "ticks": ""
            },
            "colorscale": [
             [
              0,
              "#0d0887"
             ],
             [
              0.1111111111111111,
              "#46039f"
             ],
             [
              0.2222222222222222,
              "#7201a8"
             ],
             [
              0.3333333333333333,
              "#9c179e"
             ],
             [
              0.4444444444444444,
              "#bd3786"
             ],
             [
              0.5555555555555556,
              "#d8576b"
             ],
             [
              0.6666666666666666,
              "#ed7953"
             ],
             [
              0.7777777777777778,
              "#fb9f3a"
             ],
             [
              0.8888888888888888,
              "#fdca26"
             ],
             [
              1,
              "#f0f921"
             ]
            ],
            "type": "heatmapgl"
           }
          ],
          "histogram": [
           {
            "marker": {
             "pattern": {
              "fillmode": "overlay",
              "size": 10,
              "solidity": 0.2
             }
            },
            "type": "histogram"
           }
          ],
          "histogram2d": [
           {
            "colorbar": {
             "outlinewidth": 0,
             "ticks": ""
            },
            "colorscale": [
             [
              0,
              "#0d0887"
             ],
             [
              0.1111111111111111,
              "#46039f"
             ],
             [
              0.2222222222222222,
              "#7201a8"
             ],
             [
              0.3333333333333333,
              "#9c179e"
             ],
             [
              0.4444444444444444,
              "#bd3786"
             ],
             [
              0.5555555555555556,
              "#d8576b"
             ],
             [
              0.6666666666666666,
              "#ed7953"
             ],
             [
              0.7777777777777778,
              "#fb9f3a"
             ],
             [
              0.8888888888888888,
              "#fdca26"
             ],
             [
              1,
              "#f0f921"
             ]
            ],
            "type": "histogram2d"
           }
          ],
          "histogram2dcontour": [
           {
            "colorbar": {
             "outlinewidth": 0,
             "ticks": ""
            },
            "colorscale": [
             [
              0,
              "#0d0887"
             ],
             [
              0.1111111111111111,
              "#46039f"
             ],
             [
              0.2222222222222222,
              "#7201a8"
             ],
             [
              0.3333333333333333,
              "#9c179e"
             ],
             [
              0.4444444444444444,
              "#bd3786"
             ],
             [
              0.5555555555555556,
              "#d8576b"
             ],
             [
              0.6666666666666666,
              "#ed7953"
             ],
             [
              0.7777777777777778,
              "#fb9f3a"
             ],
             [
              0.8888888888888888,
              "#fdca26"
             ],
             [
              1,
              "#f0f921"
             ]
            ],
            "type": "histogram2dcontour"
           }
          ],
          "mesh3d": [
           {
            "colorbar": {
             "outlinewidth": 0,
             "ticks": ""
            },
            "type": "mesh3d"
           }
          ],
          "parcoords": [
           {
            "line": {
             "colorbar": {
              "outlinewidth": 0,
              "ticks": ""
             }
            },
            "type": "parcoords"
           }
          ],
          "pie": [
           {
            "automargin": true,
            "type": "pie"
           }
          ],
          "scatter": [
           {
            "fillpattern": {
             "fillmode": "overlay",
             "size": 10,
             "solidity": 0.2
            },
            "type": "scatter"
           }
          ],
          "scatter3d": [
           {
            "line": {
             "colorbar": {
              "outlinewidth": 0,
              "ticks": ""
             }
            },
            "marker": {
             "colorbar": {
              "outlinewidth": 0,
              "ticks": ""
             }
            },
            "type": "scatter3d"
           }
          ],
          "scattercarpet": [
           {
            "marker": {
             "colorbar": {
              "outlinewidth": 0,
              "ticks": ""
             }
            },
            "type": "scattercarpet"
           }
          ],
          "scattergeo": [
           {
            "marker": {
             "colorbar": {
              "outlinewidth": 0,
              "ticks": ""
             }
            },
            "type": "scattergeo"
           }
          ],
          "scattergl": [
           {
            "marker": {
             "colorbar": {
              "outlinewidth": 0,
              "ticks": ""
             }
            },
            "type": "scattergl"
           }
          ],
          "scattermapbox": [
           {
            "marker": {
             "colorbar": {
              "outlinewidth": 0,
              "ticks": ""
             }
            },
            "type": "scattermapbox"
           }
          ],
          "scatterpolar": [
           {
            "marker": {
             "colorbar": {
              "outlinewidth": 0,
              "ticks": ""
             }
            },
            "type": "scatterpolar"
           }
          ],
          "scatterpolargl": [
           {
            "marker": {
             "colorbar": {
              "outlinewidth": 0,
              "ticks": ""
             }
            },
            "type": "scatterpolargl"
           }
          ],
          "scatterternary": [
           {
            "marker": {
             "colorbar": {
              "outlinewidth": 0,
              "ticks": ""
             }
            },
            "type": "scatterternary"
           }
          ],
          "surface": [
           {
            "colorbar": {
             "outlinewidth": 0,
             "ticks": ""
            },
            "colorscale": [
             [
              0,
              "#0d0887"
             ],
             [
              0.1111111111111111,
              "#46039f"
             ],
             [
              0.2222222222222222,
              "#7201a8"
             ],
             [
              0.3333333333333333,
              "#9c179e"
             ],
             [
              0.4444444444444444,
              "#bd3786"
             ],
             [
              0.5555555555555556,
              "#d8576b"
             ],
             [
              0.6666666666666666,
              "#ed7953"
             ],
             [
              0.7777777777777778,
              "#fb9f3a"
             ],
             [
              0.8888888888888888,
              "#fdca26"
             ],
             [
              1,
              "#f0f921"
             ]
            ],
            "type": "surface"
           }
          ],
          "table": [
           {
            "cells": {
             "fill": {
              "color": "#EBF0F8"
             },
             "line": {
              "color": "white"
             }
            },
            "header": {
             "fill": {
              "color": "#C8D4E3"
             },
             "line": {
              "color": "white"
             }
            },
            "type": "table"
           }
          ]
         },
         "layout": {
          "annotationdefaults": {
           "arrowcolor": "#2a3f5f",
           "arrowhead": 0,
           "arrowwidth": 1
          },
          "autotypenumbers": "strict",
          "coloraxis": {
           "colorbar": {
            "outlinewidth": 0,
            "ticks": ""
           }
          },
          "colorscale": {
           "diverging": [
            [
             0,
             "#8e0152"
            ],
            [
             0.1,
             "#c51b7d"
            ],
            [
             0.2,
             "#de77ae"
            ],
            [
             0.3,
             "#f1b6da"
            ],
            [
             0.4,
             "#fde0ef"
            ],
            [
             0.5,
             "#f7f7f7"
            ],
            [
             0.6,
             "#e6f5d0"
            ],
            [
             0.7,
             "#b8e186"
            ],
            [
             0.8,
             "#7fbc41"
            ],
            [
             0.9,
             "#4d9221"
            ],
            [
             1,
             "#276419"
            ]
           ],
           "sequential": [
            [
             0,
             "#0d0887"
            ],
            [
             0.1111111111111111,
             "#46039f"
            ],
            [
             0.2222222222222222,
             "#7201a8"
            ],
            [
             0.3333333333333333,
             "#9c179e"
            ],
            [
             0.4444444444444444,
             "#bd3786"
            ],
            [
             0.5555555555555556,
             "#d8576b"
            ],
            [
             0.6666666666666666,
             "#ed7953"
            ],
            [
             0.7777777777777778,
             "#fb9f3a"
            ],
            [
             0.8888888888888888,
             "#fdca26"
            ],
            [
             1,
             "#f0f921"
            ]
           ],
           "sequentialminus": [
            [
             0,
             "#0d0887"
            ],
            [
             0.1111111111111111,
             "#46039f"
            ],
            [
             0.2222222222222222,
             "#7201a8"
            ],
            [
             0.3333333333333333,
             "#9c179e"
            ],
            [
             0.4444444444444444,
             "#bd3786"
            ],
            [
             0.5555555555555556,
             "#d8576b"
            ],
            [
             0.6666666666666666,
             "#ed7953"
            ],
            [
             0.7777777777777778,
             "#fb9f3a"
            ],
            [
             0.8888888888888888,
             "#fdca26"
            ],
            [
             1,
             "#f0f921"
            ]
           ]
          },
          "colorway": [
           "#636efa",
           "#EF553B",
           "#00cc96",
           "#ab63fa",
           "#FFA15A",
           "#19d3f3",
           "#FF6692",
           "#B6E880",
           "#FF97FF",
           "#FECB52"
          ],
          "font": {
           "color": "#2a3f5f"
          },
          "geo": {
           "bgcolor": "white",
           "lakecolor": "white",
           "landcolor": "#E5ECF6",
           "showlakes": true,
           "showland": true,
           "subunitcolor": "white"
          },
          "hoverlabel": {
           "align": "left"
          },
          "hovermode": "closest",
          "mapbox": {
           "style": "light"
          },
          "paper_bgcolor": "white",
          "plot_bgcolor": "#E5ECF6",
          "polar": {
           "angularaxis": {
            "gridcolor": "white",
            "linecolor": "white",
            "ticks": ""
           },
           "bgcolor": "#E5ECF6",
           "radialaxis": {
            "gridcolor": "white",
            "linecolor": "white",
            "ticks": ""
           }
          },
          "scene": {
           "xaxis": {
            "backgroundcolor": "#E5ECF6",
            "gridcolor": "white",
            "gridwidth": 2,
            "linecolor": "white",
            "showbackground": true,
            "ticks": "",
            "zerolinecolor": "white"
           },
           "yaxis": {
            "backgroundcolor": "#E5ECF6",
            "gridcolor": "white",
            "gridwidth": 2,
            "linecolor": "white",
            "showbackground": true,
            "ticks": "",
            "zerolinecolor": "white"
           },
           "zaxis": {
            "backgroundcolor": "#E5ECF6",
            "gridcolor": "white",
            "gridwidth": 2,
            "linecolor": "white",
            "showbackground": true,
            "ticks": "",
            "zerolinecolor": "white"
           }
          },
          "shapedefaults": {
           "line": {
            "color": "#2a3f5f"
           }
          },
          "ternary": {
           "aaxis": {
            "gridcolor": "white",
            "linecolor": "white",
            "ticks": ""
           },
           "baxis": {
            "gridcolor": "white",
            "linecolor": "white",
            "ticks": ""
           },
           "bgcolor": "#E5ECF6",
           "caxis": {
            "gridcolor": "white",
            "linecolor": "white",
            "ticks": ""
           }
          },
          "title": {
           "x": 0.05
          },
          "xaxis": {
           "automargin": true,
           "gridcolor": "white",
           "linecolor": "white",
           "ticks": "",
           "title": {
            "standoff": 15
           },
           "zerolinecolor": "white",
           "zerolinewidth": 2
          },
          "yaxis": {
           "automargin": true,
           "gridcolor": "white",
           "linecolor": "white",
           "ticks": "",
           "title": {
            "standoff": 15
           },
           "zerolinecolor": "white",
           "zerolinewidth": 2
          }
         }
        },
        "xaxis": {
         "anchor": "y",
         "domain": [
          0,
          1
         ]
        },
        "yaxis": {
         "anchor": "x",
         "domain": [
          0,
          1
         ]
        }
       }
      }
     },
     "metadata": {},
     "output_type": "display_data"
    }
   ],
   "source": [
    "img = Image.open(TRAIN_IMG+'2220.png')\n",
    "img_array = np.asarray(img)\n",
    "px.imshow(img_array)"
   ]
  },
  {
   "cell_type": "code",
   "execution_count": 6,
   "metadata": {},
   "outputs": [
    {
     "data": {
      "text/plain": [
       "array([35, 31, 14], dtype=uint8)"
      ]
     },
     "execution_count": 6,
     "metadata": {},
     "output_type": "execute_result"
    }
   ],
   "source": [
    "img_array[0][0]"
   ]
  },
  {
   "cell_type": "code",
   "execution_count": 7,
   "metadata": {},
   "outputs": [
    {
     "data": {
      "text/plain": [
       "(332, 332)"
      ]
     },
     "execution_count": 7,
     "metadata": {},
     "output_type": "execute_result"
    }
   ],
   "source": [
    "img.size"
   ]
  },
  {
   "cell_type": "code",
   "execution_count": 8,
   "metadata": {},
   "outputs": [
    {
     "data": {
      "text/plain": [
       "'RGB'"
      ]
     },
     "execution_count": 8,
     "metadata": {},
     "output_type": "execute_result"
    }
   ],
   "source": [
    "img.mode"
   ]
  },
  {
   "cell_type": "code",
   "execution_count": 9,
   "metadata": {},
   "outputs": [],
   "source": [
    "def imshow(img):\n",
    "  img = img / 2 + 0.5 \n",
    "  npimg = img.numpy() \n",
    "  px.imshow(np.transpose(npimg, (1, 2, 0)))\n",
    "  "
   ]
  },
  {
   "cell_type": "markdown",
   "metadata": {},
   "source": [
    "# Custom Dataset and Dataloader"
   ]
  },
  {
   "cell_type": "code",
   "execution_count": 31,
   "metadata": {},
   "outputs": [
    {
     "name": "stdout",
     "output_type": "stream",
     "text": [
      "tensor(2)\n"
     ]
    },
    {
     "data": {
      "application/vnd.plotly.v1+json": {
       "config": {
        "plotlyServerURL": "https://plot.ly"
       },
       "data": [
        {
         "hovertemplate": "x: %{x}<br>y: %{y}<extra></extra>",
         "name": "0",
         "source": "data:image/png;base64,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",
         "type": "image",
         "xaxis": "x",
         "yaxis": "y"
        }
       ],
       "layout": {
        "margin": {
         "t": 60
        },
        "template": {
         "data": {
          "bar": [
           {
            "error_x": {
             "color": "#2a3f5f"
            },
            "error_y": {
             "color": "#2a3f5f"
            },
            "marker": {
             "line": {
              "color": "#E5ECF6",
              "width": 0.5
             },
             "pattern": {
              "fillmode": "overlay",
              "size": 10,
              "solidity": 0.2
             }
            },
            "type": "bar"
           }
          ],
          "barpolar": [
           {
            "marker": {
             "line": {
              "color": "#E5ECF6",
              "width": 0.5
             },
             "pattern": {
              "fillmode": "overlay",
              "size": 10,
              "solidity": 0.2
             }
            },
            "type": "barpolar"
           }
          ],
          "carpet": [
           {
            "aaxis": {
             "endlinecolor": "#2a3f5f",
             "gridcolor": "white",
             "linecolor": "white",
             "minorgridcolor": "white",
             "startlinecolor": "#2a3f5f"
            },
            "baxis": {
             "endlinecolor": "#2a3f5f",
             "gridcolor": "white",
             "linecolor": "white",
             "minorgridcolor": "white",
             "startlinecolor": "#2a3f5f"
            },
            "type": "carpet"
           }
          ],
          "choropleth": [
           {
            "colorbar": {
             "outlinewidth": 0,
             "ticks": ""
            },
            "type": "choropleth"
           }
          ],
          "contour": [
           {
            "colorbar": {
             "outlinewidth": 0,
             "ticks": ""
            },
            "colorscale": [
             [
              0,
              "#0d0887"
             ],
             [
              0.1111111111111111,
              "#46039f"
             ],
             [
              0.2222222222222222,
              "#7201a8"
             ],
             [
              0.3333333333333333,
              "#9c179e"
             ],
             [
              0.4444444444444444,
              "#bd3786"
             ],
             [
              0.5555555555555556,
              "#d8576b"
             ],
             [
              0.6666666666666666,
              "#ed7953"
             ],
             [
              0.7777777777777778,
              "#fb9f3a"
             ],
             [
              0.8888888888888888,
              "#fdca26"
             ],
             [
              1,
              "#f0f921"
             ]
            ],
            "type": "contour"
           }
          ],
          "contourcarpet": [
           {
            "colorbar": {
             "outlinewidth": 0,
             "ticks": ""
            },
            "type": "contourcarpet"
           }
          ],
          "heatmap": [
           {
            "colorbar": {
             "outlinewidth": 0,
             "ticks": ""
            },
            "colorscale": [
             [
              0,
              "#0d0887"
             ],
             [
              0.1111111111111111,
              "#46039f"
             ],
             [
              0.2222222222222222,
              "#7201a8"
             ],
             [
              0.3333333333333333,
              "#9c179e"
             ],
             [
              0.4444444444444444,
              "#bd3786"
             ],
             [
              0.5555555555555556,
              "#d8576b"
             ],
             [
              0.6666666666666666,
              "#ed7953"
             ],
             [
              0.7777777777777778,
              "#fb9f3a"
             ],
             [
              0.8888888888888888,
              "#fdca26"
             ],
             [
              1,
              "#f0f921"
             ]
            ],
            "type": "heatmap"
           }
          ],
          "heatmapgl": [
           {
            "colorbar": {
             "outlinewidth": 0,
             "ticks": ""
            },
            "colorscale": [
             [
              0,
              "#0d0887"
             ],
             [
              0.1111111111111111,
              "#46039f"
             ],
             [
              0.2222222222222222,
              "#7201a8"
             ],
             [
              0.3333333333333333,
              "#9c179e"
             ],
             [
              0.4444444444444444,
              "#bd3786"
             ],
             [
              0.5555555555555556,
              "#d8576b"
             ],
             [
              0.6666666666666666,
              "#ed7953"
             ],
             [
              0.7777777777777778,
              "#fb9f3a"
             ],
             [
              0.8888888888888888,
              "#fdca26"
             ],
             [
              1,
              "#f0f921"
             ]
            ],
            "type": "heatmapgl"
           }
          ],
          "histogram": [
           {
            "marker": {
             "pattern": {
              "fillmode": "overlay",
              "size": 10,
              "solidity": 0.2
             }
            },
            "type": "histogram"
           }
          ],
          "histogram2d": [
           {
            "colorbar": {
             "outlinewidth": 0,
             "ticks": ""
            },
            "colorscale": [
             [
              0,
              "#0d0887"
             ],
             [
              0.1111111111111111,
              "#46039f"
             ],
             [
              0.2222222222222222,
              "#7201a8"
             ],
             [
              0.3333333333333333,
              "#9c179e"
             ],
             [
              0.4444444444444444,
              "#bd3786"
             ],
             [
              0.5555555555555556,
              "#d8576b"
             ],
             [
              0.6666666666666666,
              "#ed7953"
             ],
             [
              0.7777777777777778,
              "#fb9f3a"
             ],
             [
              0.8888888888888888,
              "#fdca26"
             ],
             [
              1,
              "#f0f921"
             ]
            ],
            "type": "histogram2d"
           }
          ],
          "histogram2dcontour": [
           {
            "colorbar": {
             "outlinewidth": 0,
             "ticks": ""
            },
            "colorscale": [
             [
              0,
              "#0d0887"
             ],
             [
              0.1111111111111111,
              "#46039f"
             ],
             [
              0.2222222222222222,
              "#7201a8"
             ],
             [
              0.3333333333333333,
              "#9c179e"
             ],
             [
              0.4444444444444444,
              "#bd3786"
             ],
             [
              0.5555555555555556,
              "#d8576b"
             ],
             [
              0.6666666666666666,
              "#ed7953"
             ],
             [
              0.7777777777777778,
              "#fb9f3a"
             ],
             [
              0.8888888888888888,
              "#fdca26"
             ],
             [
              1,
              "#f0f921"
             ]
            ],
            "type": "histogram2dcontour"
           }
          ],
          "mesh3d": [
           {
            "colorbar": {
             "outlinewidth": 0,
             "ticks": ""
            },
            "type": "mesh3d"
           }
          ],
          "parcoords": [
           {
            "line": {
             "colorbar": {
              "outlinewidth": 0,
              "ticks": ""
             }
            },
            "type": "parcoords"
           }
          ],
          "pie": [
           {
            "automargin": true,
            "type": "pie"
           }
          ],
          "scatter": [
           {
            "fillpattern": {
             "fillmode": "overlay",
             "size": 10,
             "solidity": 0.2
            },
            "type": "scatter"
           }
          ],
          "scatter3d": [
           {
            "line": {
             "colorbar": {
              "outlinewidth": 0,
              "ticks": ""
             }
            },
            "marker": {
             "colorbar": {
              "outlinewidth": 0,
              "ticks": ""
             }
            },
            "type": "scatter3d"
           }
          ],
          "scattercarpet": [
           {
            "marker": {
             "colorbar": {
              "outlinewidth": 0,
              "ticks": ""
             }
            },
            "type": "scattercarpet"
           }
          ],
          "scattergeo": [
           {
            "marker": {
             "colorbar": {
              "outlinewidth": 0,
              "ticks": ""
             }
            },
            "type": "scattergeo"
           }
          ],
          "scattergl": [
           {
            "marker": {
             "colorbar": {
              "outlinewidth": 0,
              "ticks": ""
             }
            },
            "type": "scattergl"
           }
          ],
          "scattermapbox": [
           {
            "marker": {
             "colorbar": {
              "outlinewidth": 0,
              "ticks": ""
             }
            },
            "type": "scattermapbox"
           }
          ],
          "scatterpolar": [
           {
            "marker": {
             "colorbar": {
              "outlinewidth": 0,
              "ticks": ""
             }
            },
            "type": "scatterpolar"
           }
          ],
          "scatterpolargl": [
           {
            "marker": {
             "colorbar": {
              "outlinewidth": 0,
              "ticks": ""
             }
            },
            "type": "scatterpolargl"
           }
          ],
          "scatterternary": [
           {
            "marker": {
             "colorbar": {
              "outlinewidth": 0,
              "ticks": ""
             }
            },
            "type": "scatterternary"
           }
          ],
          "surface": [
           {
            "colorbar": {
             "outlinewidth": 0,
             "ticks": ""
            },
            "colorscale": [
             [
              0,
              "#0d0887"
             ],
             [
              0.1111111111111111,
              "#46039f"
             ],
             [
              0.2222222222222222,
              "#7201a8"
             ],
             [
              0.3333333333333333,
              "#9c179e"
             ],
             [
              0.4444444444444444,
              "#bd3786"
             ],
             [
              0.5555555555555556,
              "#d8576b"
             ],
             [
              0.6666666666666666,
              "#ed7953"
             ],
             [
              0.7777777777777778,
              "#fb9f3a"
             ],
             [
              0.8888888888888888,
              "#fdca26"
             ],
             [
              1,
              "#f0f921"
             ]
            ],
            "type": "surface"
           }
          ],
          "table": [
           {
            "cells": {
             "fill": {
              "color": "#EBF0F8"
             },
             "line": {
              "color": "white"
             }
            },
            "header": {
             "fill": {
              "color": "#C8D4E3"
             },
             "line": {
              "color": "white"
             }
            },
            "type": "table"
           }
          ]
         },
         "layout": {
          "annotationdefaults": {
           "arrowcolor": "#2a3f5f",
           "arrowhead": 0,
           "arrowwidth": 1
          },
          "autotypenumbers": "strict",
          "coloraxis": {
           "colorbar": {
            "outlinewidth": 0,
            "ticks": ""
           }
          },
          "colorscale": {
           "diverging": [
            [
             0,
             "#8e0152"
            ],
            [
             0.1,
             "#c51b7d"
            ],
            [
             0.2,
             "#de77ae"
            ],
            [
             0.3,
             "#f1b6da"
            ],
            [
             0.4,
             "#fde0ef"
            ],
            [
             0.5,
             "#f7f7f7"
            ],
            [
             0.6,
             "#e6f5d0"
            ],
            [
             0.7,
             "#b8e186"
            ],
            [
             0.8,
             "#7fbc41"
            ],
            [
             0.9,
             "#4d9221"
            ],
            [
             1,
             "#276419"
            ]
           ],
           "sequential": [
            [
             0,
             "#0d0887"
            ],
            [
             0.1111111111111111,
             "#46039f"
            ],
            [
             0.2222222222222222,
             "#7201a8"
            ],
            [
             0.3333333333333333,
             "#9c179e"
            ],
            [
             0.4444444444444444,
             "#bd3786"
            ],
            [
             0.5555555555555556,
             "#d8576b"
            ],
            [
             0.6666666666666666,
             "#ed7953"
            ],
            [
             0.7777777777777778,
             "#fb9f3a"
            ],
            [
             0.8888888888888888,
             "#fdca26"
            ],
            [
             1,
             "#f0f921"
            ]
           ],
           "sequentialminus": [
            [
             0,
             "#0d0887"
            ],
            [
             0.1111111111111111,
             "#46039f"
            ],
            [
             0.2222222222222222,
             "#7201a8"
            ],
            [
             0.3333333333333333,
             "#9c179e"
            ],
            [
             0.4444444444444444,
             "#bd3786"
            ],
            [
             0.5555555555555556,
             "#d8576b"
            ],
            [
             0.6666666666666666,
             "#ed7953"
            ],
            [
             0.7777777777777778,
             "#fb9f3a"
            ],
            [
             0.8888888888888888,
             "#fdca26"
            ],
            [
             1,
             "#f0f921"
            ]
           ]
          },
          "colorway": [
           "#636efa",
           "#EF553B",
           "#00cc96",
           "#ab63fa",
           "#FFA15A",
           "#19d3f3",
           "#FF6692",
           "#B6E880",
           "#FF97FF",
           "#FECB52"
          ],
          "font": {
           "color": "#2a3f5f"
          },
          "geo": {
           "bgcolor": "white",
           "lakecolor": "white",
           "landcolor": "#E5ECF6",
           "showlakes": true,
           "showland": true,
           "subunitcolor": "white"
          },
          "hoverlabel": {
           "align": "left"
          },
          "hovermode": "closest",
          "mapbox": {
           "style": "light"
          },
          "paper_bgcolor": "white",
          "plot_bgcolor": "#E5ECF6",
          "polar": {
           "angularaxis": {
            "gridcolor": "white",
            "linecolor": "white",
            "ticks": ""
           },
           "bgcolor": "#E5ECF6",
           "radialaxis": {
            "gridcolor": "white",
            "linecolor": "white",
            "ticks": ""
           }
          },
          "scene": {
           "xaxis": {
            "backgroundcolor": "#E5ECF6",
            "gridcolor": "white",
            "gridwidth": 2,
            "linecolor": "white",
            "showbackground": true,
            "ticks": "",
            "zerolinecolor": "white"
           },
           "yaxis": {
            "backgroundcolor": "#E5ECF6",
            "gridcolor": "white",
            "gridwidth": 2,
            "linecolor": "white",
            "showbackground": true,
            "ticks": "",
            "zerolinecolor": "white"
           },
           "zaxis": {
            "backgroundcolor": "#E5ECF6",
            "gridcolor": "white",
            "gridwidth": 2,
            "linecolor": "white",
            "showbackground": true,
            "ticks": "",
            "zerolinecolor": "white"
           }
          },
          "shapedefaults": {
           "line": {
            "color": "#2a3f5f"
           }
          },
          "ternary": {
           "aaxis": {
            "gridcolor": "white",
            "linecolor": "white",
            "ticks": ""
           },
           "baxis": {
            "gridcolor": "white",
            "linecolor": "white",
            "ticks": ""
           },
           "bgcolor": "#E5ECF6",
           "caxis": {
            "gridcolor": "white",
            "linecolor": "white",
            "ticks": ""
           }
          },
          "title": {
           "x": 0.05
          },
          "xaxis": {
           "automargin": true,
           "gridcolor": "white",
           "linecolor": "white",
           "ticks": "",
           "title": {
            "standoff": 15
           },
           "zerolinecolor": "white",
           "zerolinewidth": 2
          },
          "yaxis": {
           "automargin": true,
           "gridcolor": "white",
           "linecolor": "white",
           "ticks": "",
           "title": {
            "standoff": 15
           },
           "zerolinecolor": "white",
           "zerolinewidth": 2
          }
         }
        },
        "xaxis": {
         "anchor": "y",
         "domain": [
          0,
          1
         ]
        },
        "yaxis": {
         "anchor": "x",
         "domain": [
          0,
          1
         ]
        }
       }
      }
     },
     "metadata": {},
     "output_type": "display_data"
    }
   ],
   "source": [
    "class ImageDataset(Dataset):\n",
    "  def __init__(self,df,data_folder,transform):\n",
    "    self.df = df\n",
    "    self.transform = transform\n",
    "    self.img_folder = data_folder\n",
    "     \n",
    "    self.image_names = self.df[:]['example_path']\n",
    "    self.labels = self.df[:]['label']\n",
    "   \n",
    "  def __len__(self):\n",
    "    return len(self.image_names)\n",
    " \n",
    "  def __getitem__(self,index):\n",
    "     \n",
    "    image=Image.open(self.img_folder+self.image_names.iloc[index])\n",
    "\n",
    "    image=self.transform(image)\n",
    "    targets=self.labels[index]\n",
    "     \n",
    "    sample = {'image': image,'labels':targets}\n",
    " \n",
    "    return sample\n",
    "\n",
    "train_transform = transforms.Compose([\n",
    "                       transforms.RandomHorizontalFlip(p=1),\n",
    "                       transforms.RandomVerticalFlip(p=1),\n",
    "                       transforms.RandomRotation(degrees=0.66),\n",
    "                       transforms.ToTensor(), \n",
    "                       transforms.Normalize((0.5, 0.5, 0.5), (0.5, 0.5, 0.5))])\n",
    "\n",
    "\n",
    "data = ImageDataset(train_df, '../data/', train_transform)\n",
    "DL = DataLoader(data, batch_size=20,shuffle=True)\n",
    "sample = next(iter(DL))\n",
    "print(sample['labels'][0])\n",
    "img = (sample['image'][0] / 2 + 0.5 )\n",
    "npimg = img.numpy() \n",
    "px.imshow(np.transpose(npimg, (1, 2, 0)))"
   ]
  },
  {
   "cell_type": "markdown",
   "metadata": {},
   "source": [
    "## Split Train test"
   ]
  },
  {
   "cell_type": "code",
   "execution_count": 32,
   "metadata": {},
   "outputs": [
    {
     "name": "stdout",
     "output_type": "stream",
     "text": [
      "DATA: 1714, TRAIN: 1372, TEST: 342\n"
     ]
    }
   ],
   "source": [
    "train_data, test_data = random_split(data, [0.8, 0.2])\n",
    "print(f'DATA: {len(data)}, TRAIN: {len(train_data)}, TEST: {len(test_data)}')"
   ]
  },
  {
   "cell_type": "code",
   "execution_count": 33,
   "metadata": {},
   "outputs": [],
   "source": [
    "train_DL = DataLoader(train_data, batch_size=20, shuffle=True)\n"
   ]
  },
  {
   "cell_type": "markdown",
   "metadata": {},
   "source": [
    "## DEFINING PARAMETERS"
   ]
  },
  {
   "cell_type": "code",
   "execution_count": 34,
   "metadata": {},
   "outputs": [
    {
     "data": {
      "text/plain": [
       "Net(\n",
       "  (conv): Sequential(\n",
       "    (0): Conv2d(3, 6, kernel_size=(5, 5), stride=(1, 1))\n",
       "    (1): ReLU()\n",
       "    (2): MaxPool2d(kernel_size=2, stride=2, padding=0, dilation=1, ceil_mode=False)\n",
       "    (3): Conv2d(6, 16, kernel_size=(5, 5), stride=(1, 1))\n",
       "    (4): ReLU()\n",
       "    (5): MaxPool2d(kernel_size=2, stride=2, padding=0, dilation=1, ceil_mode=False)\n",
       "  )\n",
       "  (fc): Sequential(\n",
       "    (0): Linear(in_features=102400, out_features=120, bias=True)\n",
       "    (1): ReLU()\n",
       "    (2): Linear(in_features=120, out_features=84, bias=True)\n",
       "    (3): ReLU()\n",
       "    (4): Linear(in_features=84, out_features=3, bias=True)\n",
       "  )\n",
       ")"
      ]
     },
     "execution_count": 34,
     "metadata": {},
     "output_type": "execute_result"
    }
   ],
   "source": [
    "from model import Net\n",
    "\n",
    "net = Net(list(sample['image'][0].shape), classes=3)\n",
    "net"
   ]
  },
  {
   "cell_type": "code",
   "execution_count": 36,
   "metadata": {},
   "outputs": [],
   "source": [
    "loss_func = nn.CrossEntropyLoss()\n",
    "optimizer = optim.Adam(net.parameters())\n"
   ]
  },
  {
   "cell_type": "markdown",
   "metadata": {},
   "source": [
    "# TRAINING"
   ]
  },
  {
   "cell_type": "code",
   "execution_count": 37,
   "metadata": {},
   "outputs": [
    {
     "name": "stdout",
     "output_type": "stream",
     "text": [
      "[1,    10] loss: 1.263\n",
      "[1,    20] loss: 0.964\n",
      "[1,    30] loss: 0.983\n",
      "[1,    40] loss: 1.014\n",
      "[1,    50] loss: 0.986\n",
      "[1,    60] loss: 1.009\n",
      "[2,    10] loss: 0.985\n",
      "[2,    20] loss: 0.962\n",
      "[2,    30] loss: 0.961\n",
      "[2,    40] loss: 0.966\n",
      "[2,    50] loss: 0.954\n",
      "[2,    60] loss: 0.957\n",
      "[3,    10] loss: 0.973\n",
      "[3,    20] loss: 0.962\n",
      "[3,    30] loss: 0.985\n",
      "[3,    40] loss: 0.976\n",
      "[3,    50] loss: 0.896\n",
      "[3,    60] loss: 0.990\n",
      "[4,    10] loss: 0.952\n",
      "[4,    20] loss: 0.990\n",
      "[4,    30] loss: 0.952\n",
      "[4,    40] loss: 1.002\n",
      "[4,    50] loss: 0.944\n",
      "[4,    60] loss: 1.003\n",
      "[5,    10] loss: 0.922\n",
      "[5,    20] loss: 0.985\n",
      "[5,    30] loss: 0.979\n",
      "[5,    40] loss: 0.931\n",
      "[5,    50] loss: 0.928\n",
      "[5,    60] loss: 1.287\n",
      "[6,    10] loss: 0.961\n",
      "[6,    20] loss: 0.882\n",
      "[6,    30] loss: 0.963\n",
      "[6,    40] loss: 0.969\n",
      "[6,    50] loss: 0.984\n",
      "[6,    60] loss: 0.969\n",
      "[7,    10] loss: 0.970\n",
      "[7,    20] loss: 0.907\n",
      "[7,    30] loss: 0.886\n",
      "[7,    40] loss: 0.839\n",
      "[7,    50] loss: 0.913\n",
      "[7,    60] loss: 0.884\n",
      "[8,    10] loss: 0.807\n",
      "[8,    20] loss: 0.835\n",
      "[8,    30] loss: 0.857\n",
      "[8,    40] loss: 0.879\n",
      "[8,    50] loss: 0.867\n",
      "[8,    60] loss: 0.881\n",
      "[9,    10] loss: 0.778\n",
      "[9,    20] loss: 0.738\n",
      "[9,    30] loss: 0.755\n",
      "[9,    40] loss: 0.775\n",
      "[9,    50] loss: 0.804\n",
      "[9,    60] loss: 0.729\n",
      "[10,    10] loss: 0.704\n",
      "[10,    20] loss: 0.757\n",
      "[10,    30] loss: 0.758\n",
      "[10,    40] loss: 0.649\n",
      "[10,    50] loss: 0.759\n",
      "[10,    60] loss: 0.673\n",
      "Finished Training\n",
      "7.509182516733805\n"
     ]
    }
   ],
   "source": [
    "import time\n",
    "start = time.time()\n",
    "\n",
    "\n",
    "\n",
    "\n",
    "for epoch in range(10):  # loop over the dataset multiple times\n",
    "\n",
    "    running_loss = 0.0\n",
    "    for i, data in enumerate(train_DL, 0):\n",
    "        # get the inputs; data is a list of [inputs, labels]\n",
    "        inputs = data['image']\n",
    "        labels = data['labels']\n",
    "\n",
    "        # zero the parameter gradients\n",
    "        optimizer.zero_grad()\n",
    "\n",
    "        # forward + backward + optimize\n",
    "        outputs = net(inputs)\n",
    "        loss = loss_func(outputs, labels)\n",
    "        loss.backward()\n",
    "        optimizer.step()\n",
    "\n",
    "        # print statistics\n",
    "        running_loss += loss.item()\n",
    "        if i % 10 == 9:    # print every 2000 mini-batches\n",
    "            print('[%d, %5d] loss: %.3f' %\n",
    "                  (epoch + 1, i + 1, running_loss / 10))\n",
    "            running_loss = 0.0\n",
    "\n",
    "# whatever you are timing goes here\n",
    "total_time = time.time() - start\n",
    "\n",
    "# Waits for everything to finish running\n",
    "#\n",
    "#torch.cuda.synchronize()\n",
    "\n",
    "print('Finished Training')\n",
    "print(total_time/60)   "
   ]
  },
  {
   "cell_type": "code",
   "execution_count": 16,
   "metadata": {},
   "outputs": [
    {
     "name": "stdout",
     "output_type": "stream",
     "text": [
      "1.3456761360168457\n"
     ]
    }
   ],
   "source": [
    "print(total_time/60)  # milliseconds\n",
    "\n"
   ]
  },
  {
   "cell_type": "markdown",
   "metadata": {},
   "source": [
    "## CALCULATE SCORE"
   ]
  },
  {
   "cell_type": "code",
   "execution_count": 38,
   "metadata": {},
   "outputs": [
    {
     "data": {
      "text/plain": [
       "{'image': tensor([[[[-1.0000, -1.0000, -1.0000,  ..., -0.8588, -0.8667, -1.0000],\n",
       "           [-0.9529, -0.9608, -0.9451,  ..., -0.8353, -0.8588, -1.0000],\n",
       "           [-0.9608, -0.9373, -0.9294,  ..., -0.7569, -0.7804, -1.0000],\n",
       "           ...,\n",
       "           [-1.0000, -0.9059, -0.9216,  ..., -0.7804, -0.8275, -0.8588],\n",
       "           [-1.0000, -0.9059, -0.9059,  ..., -0.8118, -0.8431, -0.8510],\n",
       "           [-1.0000, -0.9059, -0.9137,  ..., -1.0000, -1.0000, -1.0000]],\n",
       " \n",
       "          [[-1.0000, -1.0000, -1.0000,  ..., -0.8353, -0.8431, -1.0000],\n",
       "           [-0.9294, -0.9294, -0.9137,  ..., -0.8353, -0.8588, -1.0000],\n",
       "           [-0.9373, -0.9137, -0.9059,  ..., -0.7725, -0.7961, -1.0000],\n",
       "           ...,\n",
       "           [-1.0000, -0.8667, -0.8667,  ..., -0.7804, -0.8275, -0.8510],\n",
       "           [-1.0000, -0.8745, -0.8667,  ..., -0.8196, -0.8275, -0.8353],\n",
       "           [-1.0000, -0.8745, -0.8824,  ..., -1.0000, -1.0000, -1.0000]],\n",
       " \n",
       "          [[-1.0000, -1.0000, -1.0000,  ..., -0.9843, -0.9843, -1.0000],\n",
       "           [-1.0000, -1.0000, -1.0000,  ..., -0.9843, -1.0000, -1.0000],\n",
       "           [-1.0000, -1.0000, -0.9922,  ..., -0.9294, -0.9373, -1.0000],\n",
       "           ...,\n",
       "           [-1.0000, -1.0000, -1.0000,  ..., -0.9137, -0.9451, -0.9765],\n",
       "           [-1.0000, -1.0000, -1.0000,  ..., -0.9451, -0.9608, -0.9608],\n",
       "           [-1.0000, -1.0000, -1.0000,  ..., -1.0000, -1.0000, -1.0000]]],\n",
       " \n",
       " \n",
       "         [[[-0.8745, -0.8588, -0.8510,  ..., -0.6627, -0.6706, -0.6941],\n",
       "           [-0.8667, -0.8588, -0.8745,  ..., -0.6471, -0.6549, -0.6941],\n",
       "           [-0.8667, -0.8588, -0.8588,  ..., -0.6471, -0.6627, -0.6627],\n",
       "           ...,\n",
       "           [-0.9137, -0.9137, -0.9059,  ..., -0.8980, -0.8902, -0.8902],\n",
       "           [-0.9059, -0.9059, -0.9137,  ..., -0.8980, -0.8980, -0.8902],\n",
       "           [-0.9059, -0.9059, -0.9137,  ..., -0.9059, -0.9059, -0.8902]],\n",
       " \n",
       "          [[-0.8118, -0.7961, -0.7804,  ..., -0.6000, -0.6314, -0.6549],\n",
       "           [-0.8039, -0.7961, -0.8039,  ..., -0.6000, -0.6078, -0.6627],\n",
       "           [-0.8039, -0.7961, -0.7882,  ..., -0.6235, -0.6078, -0.6078],\n",
       "           ...,\n",
       "           [-0.8275, -0.8353, -0.8275,  ..., -0.8353, -0.8431, -0.8431],\n",
       "           [-0.8196, -0.8275, -0.8275,  ..., -0.8431, -0.8431, -0.8431],\n",
       "           [-0.8275, -0.8275, -0.8275,  ..., -0.8431, -0.8431, -0.8353]],\n",
       " \n",
       "          [[-0.8980, -0.8824, -0.8745,  ..., -0.7490, -0.8039, -0.8196],\n",
       "           [-0.8980, -0.8902, -0.8980,  ..., -0.7569, -0.7804, -0.8118],\n",
       "           [-0.9059, -0.8902, -0.8902,  ..., -0.8039, -0.7961, -0.7804],\n",
       "           ...,\n",
       "           [-0.9216, -0.9216, -0.9216,  ..., -0.9373, -0.9373, -0.9451],\n",
       "           [-0.9137, -0.9137, -0.9216,  ..., -0.9451, -0.9451, -0.9451],\n",
       "           [-0.9137, -0.9216, -0.9137,  ..., -0.9451, -0.9451, -0.9451]]],\n",
       " \n",
       " \n",
       "         [[[-0.8039, -0.8039, -0.8039,  ..., -0.6471, -0.6471, -0.6471],\n",
       "           [-0.8039, -0.8039, -0.8039,  ..., -0.6549, -0.6549, -0.6549],\n",
       "           [-0.8118, -0.8039, -0.7961,  ..., -0.6549, -0.6627, -0.6549],\n",
       "           ...,\n",
       "           [-0.7961, -0.7961, -0.7961,  ..., -0.7804, -0.7961, -0.8118],\n",
       "           [-0.7882, -0.7961, -0.8039,  ..., -0.7804, -0.7882, -0.8118],\n",
       "           [-0.7961, -0.7961, -0.7961,  ..., -0.7882, -0.7961, -0.8196]],\n",
       " \n",
       "          [[-0.8039, -0.8118, -0.8118,  ..., -0.7647, -0.7725, -0.7647],\n",
       "           [-0.8039, -0.8118, -0.8118,  ..., -0.7647, -0.7725, -0.7647],\n",
       "           [-0.8118, -0.8039, -0.8039,  ..., -0.7647, -0.7725, -0.7725],\n",
       "           ...,\n",
       "           [-0.7882, -0.7882, -0.7961,  ..., -0.8118, -0.8118, -0.8275],\n",
       "           [-0.7882, -0.7961, -0.7961,  ..., -0.7961, -0.7882, -0.8118],\n",
       "           [-0.7961, -0.7961, -0.8039,  ..., -0.7961, -0.8039, -0.8353]],\n",
       " \n",
       "          [[-0.9137, -0.9137, -0.9216,  ..., -0.8588, -0.8588, -0.8510],\n",
       "           [-0.9137, -0.9137, -0.9216,  ..., -0.8588, -0.8588, -0.8510],\n",
       "           [-0.9137, -0.9137, -0.9137,  ..., -0.8588, -0.8588, -0.8588],\n",
       "           ...,\n",
       "           [-0.8824, -0.8902, -0.8902,  ..., -0.9216, -0.9216, -0.9294],\n",
       "           [-0.8902, -0.8902, -0.8902,  ..., -0.9137, -0.9137, -0.9294],\n",
       "           [-0.8902, -0.8902, -0.8902,  ..., -0.9137, -0.9137, -0.9294]]],\n",
       " \n",
       " \n",
       "         ...,\n",
       " \n",
       " \n",
       "         [[[-0.7490, -0.7647, -0.7804,  ..., -0.7412, -0.7098, -0.6706],\n",
       "           [-0.7412, -0.7725, -0.7882,  ..., -0.7804, -0.7569, -0.7333],\n",
       "           [-0.7569, -0.7725, -0.7412,  ..., -0.8039, -0.7882, -0.7647],\n",
       "           ...,\n",
       "           [-0.9059, -0.8902, -0.8980,  ..., -0.7882, -0.8118, -0.8118],\n",
       "           [-0.9059, -0.9059, -0.8980,  ..., -0.7647, -0.7804, -0.7804],\n",
       "           [-0.8980, -0.9216, -0.8980,  ..., -0.7882, -0.7804, -0.7961]],\n",
       " \n",
       "          [[-0.6863, -0.7020, -0.7176,  ..., -0.6706, -0.6784, -0.6392],\n",
       "           [-0.6863, -0.7176, -0.7255,  ..., -0.6941, -0.6706, -0.6706],\n",
       "           [-0.7020, -0.7176, -0.6941,  ..., -0.6941, -0.7176, -0.7098],\n",
       "           ...,\n",
       "           [-0.8353, -0.8118, -0.8118,  ..., -0.7333, -0.7412, -0.7176],\n",
       "           [-0.8196, -0.8353, -0.8275,  ..., -0.7020, -0.7020, -0.6863],\n",
       "           [-0.8039, -0.8510, -0.8275,  ..., -0.7098, -0.6941, -0.6863]],\n",
       " \n",
       "          [[-0.8588, -0.8745, -0.8902,  ..., -0.8588, -0.8510, -0.7882],\n",
       "           [-0.8588, -0.8902, -0.9059,  ..., -0.8902, -0.8510, -0.8431],\n",
       "           [-0.8824, -0.8980, -0.8824,  ..., -0.8824, -0.9216, -0.9059],\n",
       "           ...,\n",
       "           [-0.9765, -0.9373, -0.9451,  ..., -0.9059, -0.9294, -0.9137],\n",
       "           [-0.9529, -0.9686, -0.9608,  ..., -0.8745, -0.8902, -0.8667],\n",
       "           [-0.9373, -0.9843, -0.9686,  ..., -0.8824, -0.8824, -0.8588]]],\n",
       " \n",
       " \n",
       "         [[[-1.0000, -0.9529, -0.9529,  ..., -1.0000, -1.0000, -1.0000],\n",
       "           [-1.0000, -0.9451, -0.9608,  ..., -0.9294, -0.9373, -0.9529],\n",
       "           [-1.0000, -0.9529, -0.9451,  ..., -0.9373, -0.9216, -0.9373],\n",
       "           ...,\n",
       "           [-0.9373, -0.9373, -0.9216,  ..., -0.8745, -0.8902, -1.0000],\n",
       "           [-0.9216, -0.9294, -0.9294,  ..., -0.8588, -0.8824, -1.0000],\n",
       "           [-1.0000, -1.0000, -1.0000,  ..., -0.8510, -0.8667, -1.0000]],\n",
       " \n",
       "          [[-1.0000, -0.8902, -0.8824,  ..., -1.0000, -1.0000, -1.0000],\n",
       "           [-1.0000, -0.8745, -0.8980,  ..., -0.8588, -0.8667, -0.8824],\n",
       "           [-1.0000, -0.8902, -0.8745,  ..., -0.8745, -0.8588, -0.8745],\n",
       "           ...,\n",
       "           [-0.8902, -0.8902, -0.8667,  ..., -0.8039, -0.8196, -1.0000],\n",
       "           [-0.8745, -0.8824, -0.8824,  ..., -0.7882, -0.8118, -1.0000],\n",
       "           [-1.0000, -1.0000, -1.0000,  ..., -0.7882, -0.7961, -1.0000]],\n",
       " \n",
       "          [[-1.0000, -1.0000, -0.9922,  ..., -1.0000, -1.0000, -1.0000],\n",
       "           [-1.0000, -0.9843, -1.0000,  ..., -0.9608, -0.9686, -0.9922],\n",
       "           [-1.0000, -0.9922, -0.9843,  ..., -0.9686, -0.9529, -0.9765],\n",
       "           ...,\n",
       "           [-0.9451, -0.9451, -0.9294,  ..., -0.8745, -0.8980, -1.0000],\n",
       "           [-0.9373, -0.9608, -0.9529,  ..., -0.8588, -0.8824, -1.0000],\n",
       "           [-1.0000, -1.0000, -1.0000,  ..., -0.8667, -0.8745, -1.0000]]],\n",
       " \n",
       " \n",
       "         [[[-1.0000, -0.7255, -0.7176,  ..., -1.0000, -1.0000, -1.0000],\n",
       "           [-1.0000, -0.7490, -0.7569,  ..., -0.6941, -0.7490, -0.7647],\n",
       "           [-1.0000, -0.7647, -0.7725,  ..., -0.6784, -0.7647, -0.7804],\n",
       "           ...,\n",
       "           [-0.7804, -0.7882, -0.7961,  ..., -0.6941, -0.6941, -1.0000],\n",
       "           [-0.7882, -0.7804, -0.7882,  ..., -0.6706, -0.6706, -1.0000],\n",
       "           [-1.0000, -1.0000, -1.0000,  ..., -0.6784, -0.6706, -1.0000]],\n",
       " \n",
       "          [[-1.0000, -0.6549, -0.6471,  ..., -1.0000, -1.0000, -1.0000],\n",
       "           [-1.0000, -0.6471, -0.6627,  ..., -0.6627, -0.7020, -0.7098],\n",
       "           [-1.0000, -0.6706, -0.6941,  ..., -0.6471, -0.7098, -0.7098],\n",
       "           ...,\n",
       "           [-0.6784, -0.6863, -0.6941,  ..., -0.6627, -0.6784, -1.0000],\n",
       "           [-0.7020, -0.6706, -0.6863,  ..., -0.6549, -0.6471, -1.0000],\n",
       "           [-1.0000, -1.0000, -1.0000,  ..., -0.6471, -0.6314, -1.0000]],\n",
       " \n",
       "          [[-1.0000, -0.7725, -0.7569,  ..., -1.0000, -1.0000, -1.0000],\n",
       "           [-1.0000, -0.7569, -0.7725,  ..., -0.7882, -0.8039, -0.8118],\n",
       "           [-1.0000, -0.7569, -0.7961,  ..., -0.7569, -0.8039, -0.8196],\n",
       "           ...,\n",
       "           [-0.8431, -0.8667, -0.8824,  ..., -0.8196, -0.8275, -1.0000],\n",
       "           [-0.8667, -0.8510, -0.8745,  ..., -0.8118, -0.7961, -1.0000],\n",
       "           [-1.0000, -1.0000, -1.0000,  ..., -0.8118, -0.7961, -1.0000]]]]),\n",
       " 'labels': tensor([2, 0, 0, 2, 2, 2, 2, 2, 0, 2, 0, 0, 0, 0, 0, 2, 0, 0, 2, 1])}"
      ]
     },
     "execution_count": 38,
     "metadata": {},
     "output_type": "execute_result"
    }
   ],
   "source": [
    "test_DL = DataLoader(test_data, batch_size=20, shuffle=True)\n",
    "\n",
    "test_sample = next(iter(test_DL))\n",
    "test_sample"
   ]
  },
  {
   "cell_type": "code",
   "execution_count": 39,
   "metadata": {},
   "outputs": [
    {
     "data": {
      "text/plain": [
       "342"
      ]
     },
     "execution_count": 39,
     "metadata": {},
     "output_type": "execute_result"
    }
   ],
   "source": [
    "\n",
    "\n",
    "\n",
    "y_true, y_pred = net.predict(test_DL)\n",
    "\n",
    "len(y_true)\n"
   ]
  },
  {
   "cell_type": "code",
   "execution_count": 43,
   "metadata": {},
   "outputs": [
    {
     "data": {
      "text/plain": [
       "torch.Size([342, 1])"
      ]
     },
     "execution_count": 43,
     "metadata": {},
     "output_type": "execute_result"
    }
   ],
   "source": [
    "y_pred.size()"
   ]
  },
  {
   "cell_type": "code",
   "execution_count": 40,
   "metadata": {},
   "outputs": [],
   "source": [
    "from torchmetrics import F1Score\n",
    "\n",
    "F1 = F1Score(num_classes=3, average='macro')\n",
    "score = F1(y_pred.flatten(), y_true)"
   ]
  },
  {
   "cell_type": "code",
   "execution_count": 41,
   "metadata": {},
   "outputs": [
    {
     "data": {
      "text/plain": [
       "tensor(0.3544)"
      ]
     },
     "execution_count": 41,
     "metadata": {},
     "output_type": "execute_result"
    }
   ],
   "source": [
    "score"
   ]
  },
  {
   "cell_type": "code",
   "execution_count": 20,
   "metadata": {},
   "outputs": [
    {
     "data": {
      "text/plain": [
       "<torch.utils.data.dataloader.DataLoader at 0x7f7991d801c0>"
      ]
     },
     "execution_count": 20,
     "metadata": {},
     "output_type": "execute_result"
    }
   ],
   "source": [
    "test_DL"
   ]
  },
  {
   "cell_type": "code",
   "execution_count": 21,
   "metadata": {},
   "outputs": [
    {
     "data": {
      "text/plain": [
       "[546,\n",
       " 107,\n",
       " 111,\n",
       " 1522,\n",
       " 539,\n",
       " 224,\n",
       " 803,\n",
       " 498,\n",
       " 373,\n",
       " 557,\n",
       " 1405,\n",
       " 1375,\n",
       " 418,\n",
       " 213,\n",
       " 163,\n",
       " 64,\n",
       " 1234,\n",
       " 183,\n",
       " 1364,\n",
       " 32,\n",
       " 30,\n",
       " 1401,\n",
       " 472,\n",
       " 1046,\n",
       " 1583,\n",
       " 1185,\n",
       " 165,\n",
       " 540,\n",
       " 1639,\n",
       " 687,\n",
       " 1150,\n",
       " 1538,\n",
       " 885,\n",
       " 1054,\n",
       " 1515,\n",
       " 1257,\n",
       " 1151,\n",
       " 898,\n",
       " 590,\n",
       " 250,\n",
       " 1660,\n",
       " 1324,\n",
       " 1687,\n",
       " 825,\n",
       " 859,\n",
       " 1044,\n",
       " 1662,\n",
       " 1237,\n",
       " 476,\n",
       " 1356,\n",
       " 556,\n",
       " 1261,\n",
       " 1208,\n",
       " 616,\n",
       " 636,\n",
       " 763,\n",
       " 206,\n",
       " 171,\n",
       " 126,\n",
       " 1483,\n",
       " 966,\n",
       " 799,\n",
       " 884,\n",
       " 1205,\n",
       " 592,\n",
       " 874,\n",
       " 929,\n",
       " 956,\n",
       " 76,\n",
       " 1413,\n",
       " 1479,\n",
       " 987,\n",
       " 772,\n",
       " 1436,\n",
       " 6,\n",
       " 2,\n",
       " 154,\n",
       " 1494,\n",
       " 193,\n",
       " 1283,\n",
       " 754,\n",
       " 1478,\n",
       " 1460,\n",
       " 838,\n",
       " 752,\n",
       " 36,\n",
       " 80,\n",
       " 179,\n",
       " 267,\n",
       " 1105,\n",
       " 317,\n",
       " 928,\n",
       " 1461,\n",
       " 1057,\n",
       " 1049,\n",
       " 1123,\n",
       " 1599,\n",
       " 29,\n",
       " 1301,\n",
       " 68,\n",
       " 500,\n",
       " 1080,\n",
       " 875,\n",
       " 702,\n",
       " 793,\n",
       " 465,\n",
       " 1231,\n",
       " 1407,\n",
       " 917,\n",
       " 78,\n",
       " 610,\n",
       " 944,\n",
       " 783,\n",
       " 896,\n",
       " 1317,\n",
       " 356,\n",
       " 285,\n",
       " 984,\n",
       " 814,\n",
       " 331,\n",
       " 1681,\n",
       " 717,\n",
       " 1300,\n",
       " 1310,\n",
       " 293,\n",
       " 1041,\n",
       " 1621,\n",
       " 17,\n",
       " 1423,\n",
       " 635,\n",
       " 194,\n",
       " 422,\n",
       " 805,\n",
       " 1591,\n",
       " 786,\n",
       " 1651,\n",
       " 1403,\n",
       " 487,\n",
       " 1476,\n",
       " 629,\n",
       " 599,\n",
       " 1168,\n",
       " 278,\n",
       " 1437,\n",
       " 168,\n",
       " 1032,\n",
       " 1710,\n",
       " 1453,\n",
       " 1220,\n",
       " 86,\n",
       " 341,\n",
       " 1613,\n",
       " 952,\n",
       " 1511,\n",
       " 1305,\n",
       " 429,\n",
       " 127,\n",
       " 708,\n",
       " 1395,\n",
       " 366,\n",
       " 765,\n",
       " 773,\n",
       " 1433,\n",
       " 1012,\n",
       " 413,\n",
       " 1556,\n",
       " 774,\n",
       " 1448,\n",
       " 338,\n",
       " 499,\n",
       " 1129,\n",
       " 1066,\n",
       " 1470,\n",
       " 1612,\n",
       " 712,\n",
       " 1064,\n",
       " 109,\n",
       " 272,\n",
       " 1508,\n",
       " 1570,\n",
       " 903,\n",
       " 1501,\n",
       " 1513,\n",
       " 1390,\n",
       " 85,\n",
       " 1116,\n",
       " 545,\n",
       " 1268,\n",
       " 1293,\n",
       " 390,\n",
       " 1109,\n",
       " 1266,\n",
       " 997,\n",
       " 192,\n",
       " 520,\n",
       " 1374,\n",
       " 1553,\n",
       " 970,\n",
       " 757,\n",
       " 430,\n",
       " 1281,\n",
       " 861,\n",
       " 415,\n",
       " 547,\n",
       " 1184,\n",
       " 1643,\n",
       " 445,\n",
       " 1523,\n",
       " 50,\n",
       " 103,\n",
       " 727,\n",
       " 1152,\n",
       " 789,\n",
       " 678,\n",
       " 198,\n",
       " 434,\n",
       " 186,\n",
       " 202,\n",
       " 1318,\n",
       " 256,\n",
       " 1557,\n",
       " 1330,\n",
       " 619,\n",
       " 1291,\n",
       " 1520,\n",
       " 1712,\n",
       " 247,\n",
       " 1430,\n",
       " 320,\n",
       " 1202,\n",
       " 1104,\n",
       " 653,\n",
       " 824,\n",
       " 1060,\n",
       " 1269,\n",
       " 1113,\n",
       " 1250,\n",
       " 261,\n",
       " 771,\n",
       " 342,\n",
       " 1694,\n",
       " 1258,\n",
       " 456,\n",
       " 1441,\n",
       " 751,\n",
       " 1447,\n",
       " 1346,\n",
       " 1521,\n",
       " 83,\n",
       " 700,\n",
       " 1124,\n",
       " 605,\n",
       " 81,\n",
       " 1171,\n",
       " 336,\n",
       " 407,\n",
       " 1500,\n",
       " 1197,\n",
       " 1274,\n",
       " 1160,\n",
       " 1590,\n",
       " 1670,\n",
       " 1563,\n",
       " 333,\n",
       " 1457,\n",
       " 1222,\n",
       " 624,\n",
       " 191,\n",
       " 1341,\n",
       " 262,\n",
       " 471,\n",
       " 856,\n",
       " 922,\n",
       " 1551,\n",
       " 55,\n",
       " 8,\n",
       " 400,\n",
       " 1683,\n",
       " 798,\n",
       " 1653,\n",
       " 578,\n",
       " 1658,\n",
       " 485,\n",
       " 609,\n",
       " 1431,\n",
       " 1648,\n",
       " 535,\n",
       " 1667,\n",
       " 1344,\n",
       " 1072,\n",
       " 1074,\n",
       " 1577,\n",
       " 324,\n",
       " 170,\n",
       " 1306,\n",
       " 1417,\n",
       " 210,\n",
       " 1251,\n",
       " 61,\n",
       " 741,\n",
       " 124,\n",
       " 1642,\n",
       " 841,\n",
       " 1335,\n",
       " 4,\n",
       " 701,\n",
       " 271,\n",
       " 806,\n",
       " 936,\n",
       " 1586,\n",
       " 1371,\n",
       " 918,\n",
       " 1216,\n",
       " 1155,\n",
       " 560,\n",
       " 872,\n",
       " 558,\n",
       " 1427,\n",
       " 985,\n",
       " 622,\n",
       " 1490,\n",
       " 1352,\n",
       " 686,\n",
       " 1622,\n",
       " 51,\n",
       " 503,\n",
       " 1007,\n",
       " 981,\n",
       " 1158,\n",
       " 383,\n",
       " 945,\n",
       " 1592,\n",
       " 1083,\n",
       " 1106,\n",
       " 1644,\n",
       " 1090,\n",
       " 1199,\n",
       " 200,\n",
       " 132,\n",
       " 1691,\n",
       " 971,\n",
       " 1131]"
      ]
     },
     "execution_count": 21,
     "metadata": {},
     "output_type": "execute_result"
    }
   ],
   "source": [
    "test_data.indices"
   ]
  },
  {
   "cell_type": "code",
   "execution_count": 30,
   "metadata": {},
   "outputs": [],
   "source": []
  },
  {
   "cell_type": "code",
   "execution_count": null,
   "metadata": {},
   "outputs": [],
   "source": []
  }
 ],
 "metadata": {
  "kernelspec": {
   "display_name": "Python 3.10.4 ('ds')",
   "language": "python",
   "name": "python3"
  },
  "language_info": {
   "codemirror_mode": {
    "name": "ipython",
    "version": 3
   },
   "file_extension": ".py",
   "mimetype": "text/x-python",
   "name": "python",
   "nbconvert_exporter": "python",
   "pygments_lexer": "ipython3",
   "version": "3.10.4"
  },
  "orig_nbformat": 4,
  "vscode": {
   "interpreter": {
    "hash": "51fb76d8006b5ab0e0c4fcd365bc9e8f1c8f496fafcc4f75d4d513b2517b500d"
   }
  }
 },
 "nbformat": 4,
 "nbformat_minor": 2
}
