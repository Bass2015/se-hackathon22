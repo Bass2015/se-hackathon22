{
 "cells": [
  {
   "cell_type": "code",
   "execution_count": 20,
   "metadata": {},
   "outputs": [],
   "source": [
    "import pandas as pd\n",
    "import numpy as np\n",
    "import plotly.express as px\n",
    "from PIL import Image\n",
    "\n",
    "import torch\n",
    "import torchvision\n",
    "import torchvision.transforms as transforms\n",
    "from torch import nn\n",
    "from torch.nn import functional as FractionalMaxPool3d\n",
    "from torch import optim\n",
    "\n",
    "from torch.utils.data import DataLoader,Dataset\n",
    "\n",
    "from sklearn.model_selection import train_test_split\n"
   ]
  },
  {
   "cell_type": "code",
   "execution_count": 2,
   "metadata": {},
   "outputs": [],
   "source": [
    "TRAIN_DATA = '../data/train.csv'\n",
    "TEST_DATA = '../data/test.csv'\n",
    "TRAIN_IMG = '../data/train_test_data/train/'"
   ]
  },
  {
   "cell_type": "code",
   "execution_count": 3,
   "metadata": {},
   "outputs": [
    {
     "data": {
      "text/html": [
       "<div>\n",
       "<style scoped>\n",
       "    .dataframe tbody tr th:only-of-type {\n",
       "        vertical-align: middle;\n",
       "    }\n",
       "\n",
       "    .dataframe tbody tr th {\n",
       "        vertical-align: top;\n",
       "    }\n",
       "\n",
       "    .dataframe thead th {\n",
       "        text-align: right;\n",
       "    }\n",
       "</style>\n",
       "<table border=\"1\" class=\"dataframe\">\n",
       "  <thead>\n",
       "    <tr style=\"text-align: right;\">\n",
       "      <th></th>\n",
       "      <th>label</th>\n",
       "      <th>latitude</th>\n",
       "      <th>longitude</th>\n",
       "      <th>year</th>\n",
       "      <th>example_path</th>\n",
       "    </tr>\n",
       "  </thead>\n",
       "  <tbody>\n",
       "    <tr>\n",
       "      <th>0</th>\n",
       "      <td>0</td>\n",
       "      <td>-2.051853</td>\n",
       "      <td>111.826093</td>\n",
       "      <td>2001</td>\n",
       "      <td>train_test_data/train/1297.png</td>\n",
       "    </tr>\n",
       "    <tr>\n",
       "      <th>1</th>\n",
       "      <td>2</td>\n",
       "      <td>-1.989349</td>\n",
       "      <td>105.309496</td>\n",
       "      <td>2013</td>\n",
       "      <td>train_test_data/train/1199.png</td>\n",
       "    </tr>\n",
       "    <tr>\n",
       "      <th>2</th>\n",
       "      <td>0</td>\n",
       "      <td>1.223256</td>\n",
       "      <td>100.702217</td>\n",
       "      <td>2014</td>\n",
       "      <td>train_test_data/train/1348.png</td>\n",
       "    </tr>\n",
       "    <tr>\n",
       "      <th>3</th>\n",
       "      <td>0</td>\n",
       "      <td>-2.342948</td>\n",
       "      <td>103.890226</td>\n",
       "      <td>2008</td>\n",
       "      <td>train_test_data/train/2214.png</td>\n",
       "    </tr>\n",
       "    <tr>\n",
       "      <th>4</th>\n",
       "      <td>0</td>\n",
       "      <td>-0.126555</td>\n",
       "      <td>101.758175</td>\n",
       "      <td>2011</td>\n",
       "      <td>train_test_data/train/2220.png</td>\n",
       "    </tr>\n",
       "  </tbody>\n",
       "</table>\n",
       "</div>"
      ],
      "text/plain": [
       "   label  latitude   longitude  year                    example_path\n",
       "0      0 -2.051853  111.826093  2001  train_test_data/train/1297.png\n",
       "1      2 -1.989349  105.309496  2013  train_test_data/train/1199.png\n",
       "2      0  1.223256  100.702217  2014  train_test_data/train/1348.png\n",
       "3      0 -2.342948  103.890226  2008  train_test_data/train/2214.png\n",
       "4      0 -0.126555  101.758175  2011  train_test_data/train/2220.png"
      ]
     },
     "execution_count": 3,
     "metadata": {},
     "output_type": "execute_result"
    }
   ],
   "source": [
    "train_df = pd.read_csv(TRAIN_DATA)\n",
    "train_df.head()"
   ]
  },
  {
   "cell_type": "code",
   "execution_count": 4,
   "metadata": {},
   "outputs": [
    {
     "data": {
      "text/html": [
       "<div>\n",
       "<style scoped>\n",
       "    .dataframe tbody tr th:only-of-type {\n",
       "        vertical-align: middle;\n",
       "    }\n",
       "\n",
       "    .dataframe tbody tr th {\n",
       "        vertical-align: top;\n",
       "    }\n",
       "\n",
       "    .dataframe thead th {\n",
       "        text-align: right;\n",
       "    }\n",
       "</style>\n",
       "<table border=\"1\" class=\"dataframe\">\n",
       "  <thead>\n",
       "    <tr style=\"text-align: right;\">\n",
       "      <th></th>\n",
       "      <th>latitude</th>\n",
       "      <th>longitude</th>\n",
       "      <th>year</th>\n",
       "      <th>example_path</th>\n",
       "    </tr>\n",
       "  </thead>\n",
       "  <tbody>\n",
       "    <tr>\n",
       "      <th>0</th>\n",
       "      <td>0.761681</td>\n",
       "      <td>122.755954</td>\n",
       "      <td>2006</td>\n",
       "      <td>train_test_data/test/69.png</td>\n",
       "    </tr>\n",
       "    <tr>\n",
       "      <th>1</th>\n",
       "      <td>-8.059785</td>\n",
       "      <td>113.053791</td>\n",
       "      <td>2007</td>\n",
       "      <td>train_test_data/test/469.png</td>\n",
       "    </tr>\n",
       "    <tr>\n",
       "      <th>2</th>\n",
       "      <td>-2.006610</td>\n",
       "      <td>111.746316</td>\n",
       "      <td>2002</td>\n",
       "      <td>train_test_data/test/6.png</td>\n",
       "    </tr>\n",
       "    <tr>\n",
       "      <th>3</th>\n",
       "      <td>0.901765</td>\n",
       "      <td>114.042495</td>\n",
       "      <td>2016</td>\n",
       "      <td>train_test_data/test/351.png</td>\n",
       "    </tr>\n",
       "    <tr>\n",
       "      <th>4</th>\n",
       "      <td>1.911210</td>\n",
       "      <td>100.829633</td>\n",
       "      <td>2008</td>\n",
       "      <td>train_test_data/test/1001.png</td>\n",
       "    </tr>\n",
       "  </tbody>\n",
       "</table>\n",
       "</div>"
      ],
      "text/plain": [
       "   latitude   longitude  year                   example_path\n",
       "0  0.761681  122.755954  2006    train_test_data/test/69.png\n",
       "1 -8.059785  113.053791  2007   train_test_data/test/469.png\n",
       "2 -2.006610  111.746316  2002     train_test_data/test/6.png\n",
       "3  0.901765  114.042495  2016   train_test_data/test/351.png\n",
       "4  1.911210  100.829633  2008  train_test_data/test/1001.png"
      ]
     },
     "execution_count": 4,
     "metadata": {},
     "output_type": "execute_result"
    }
   ],
   "source": [
    "test_df = pd.read_csv(TEST_DATA)\n",
    "test_df.head()"
   ]
  },
  {
   "cell_type": "code",
   "execution_count": 21,
   "metadata": {},
   "outputs": [
    {
     "data": {
      "application/vnd.plotly.v1+json": {
       "config": {
        "plotlyServerURL": "https://plot.ly"
       },
       "data": [
        {
         "hovertemplate": "x: %{x}<br>y: %{y}<br>color: [%{z[0]}, %{z[1]}, %{z[2]}]<extra></extra>",
         "name": "0",
         "source": "data:image/png;base64,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",
         "type": "image",
         "xaxis": "x",
         "yaxis": "y"
        }
       ],
       "layout": {
        "margin": {
         "t": 60
        },
        "template": {
         "data": {
          "bar": [
           {
            "error_x": {
             "color": "#2a3f5f"
            },
            "error_y": {
             "color": "#2a3f5f"
            },
            "marker": {
             "line": {
              "color": "#E5ECF6",
              "width": 0.5
             },
             "pattern": {
              "fillmode": "overlay",
              "size": 10,
              "solidity": 0.2
             }
            },
            "type": "bar"
           }
          ],
          "barpolar": [
           {
            "marker": {
             "line": {
              "color": "#E5ECF6",
              "width": 0.5
             },
             "pattern": {
              "fillmode": "overlay",
              "size": 10,
              "solidity": 0.2
             }
            },
            "type": "barpolar"
           }
          ],
          "carpet": [
           {
            "aaxis": {
             "endlinecolor": "#2a3f5f",
             "gridcolor": "white",
             "linecolor": "white",
             "minorgridcolor": "white",
             "startlinecolor": "#2a3f5f"
            },
            "baxis": {
             "endlinecolor": "#2a3f5f",
             "gridcolor": "white",
             "linecolor": "white",
             "minorgridcolor": "white",
             "startlinecolor": "#2a3f5f"
            },
            "type": "carpet"
           }
          ],
          "choropleth": [
           {
            "colorbar": {
             "outlinewidth": 0,
             "ticks": ""
            },
            "type": "choropleth"
           }
          ],
          "contour": [
           {
            "colorbar": {
             "outlinewidth": 0,
             "ticks": ""
            },
            "colorscale": [
             [
              0,
              "#0d0887"
             ],
             [
              0.1111111111111111,
              "#46039f"
             ],
             [
              0.2222222222222222,
              "#7201a8"
             ],
             [
              0.3333333333333333,
              "#9c179e"
             ],
             [
              0.4444444444444444,
              "#bd3786"
             ],
             [
              0.5555555555555556,
              "#d8576b"
             ],
             [
              0.6666666666666666,
              "#ed7953"
             ],
             [
              0.7777777777777778,
              "#fb9f3a"
             ],
             [
              0.8888888888888888,
              "#fdca26"
             ],
             [
              1,
              "#f0f921"
             ]
            ],
            "type": "contour"
           }
          ],
          "contourcarpet": [
           {
            "colorbar": {
             "outlinewidth": 0,
             "ticks": ""
            },
            "type": "contourcarpet"
           }
          ],
          "heatmap": [
           {
            "colorbar": {
             "outlinewidth": 0,
             "ticks": ""
            },
            "colorscale": [
             [
              0,
              "#0d0887"
             ],
             [
              0.1111111111111111,
              "#46039f"
             ],
             [
              0.2222222222222222,
              "#7201a8"
             ],
             [
              0.3333333333333333,
              "#9c179e"
             ],
             [
              0.4444444444444444,
              "#bd3786"
             ],
             [
              0.5555555555555556,
              "#d8576b"
             ],
             [
              0.6666666666666666,
              "#ed7953"
             ],
             [
              0.7777777777777778,
              "#fb9f3a"
             ],
             [
              0.8888888888888888,
              "#fdca26"
             ],
             [
              1,
              "#f0f921"
             ]
            ],
            "type": "heatmap"
           }
          ],
          "heatmapgl": [
           {
            "colorbar": {
             "outlinewidth": 0,
             "ticks": ""
            },
            "colorscale": [
             [
              0,
              "#0d0887"
             ],
             [
              0.1111111111111111,
              "#46039f"
             ],
             [
              0.2222222222222222,
              "#7201a8"
             ],
             [
              0.3333333333333333,
              "#9c179e"
             ],
             [
              0.4444444444444444,
              "#bd3786"
             ],
             [
              0.5555555555555556,
              "#d8576b"
             ],
             [
              0.6666666666666666,
              "#ed7953"
             ],
             [
              0.7777777777777778,
              "#fb9f3a"
             ],
             [
              0.8888888888888888,
              "#fdca26"
             ],
             [
              1,
              "#f0f921"
             ]
            ],
            "type": "heatmapgl"
           }
          ],
          "histogram": [
           {
            "marker": {
             "pattern": {
              "fillmode": "overlay",
              "size": 10,
              "solidity": 0.2
             }
            },
            "type": "histogram"
           }
          ],
          "histogram2d": [
           {
            "colorbar": {
             "outlinewidth": 0,
             "ticks": ""
            },
            "colorscale": [
             [
              0,
              "#0d0887"
             ],
             [
              0.1111111111111111,
              "#46039f"
             ],
             [
              0.2222222222222222,
              "#7201a8"
             ],
             [
              0.3333333333333333,
              "#9c179e"
             ],
             [
              0.4444444444444444,
              "#bd3786"
             ],
             [
              0.5555555555555556,
              "#d8576b"
             ],
             [
              0.6666666666666666,
              "#ed7953"
             ],
             [
              0.7777777777777778,
              "#fb9f3a"
             ],
             [
              0.8888888888888888,
              "#fdca26"
             ],
             [
              1,
              "#f0f921"
             ]
            ],
            "type": "histogram2d"
           }
          ],
          "histogram2dcontour": [
           {
            "colorbar": {
             "outlinewidth": 0,
             "ticks": ""
            },
            "colorscale": [
             [
              0,
              "#0d0887"
             ],
             [
              0.1111111111111111,
              "#46039f"
             ],
             [
              0.2222222222222222,
              "#7201a8"
             ],
             [
              0.3333333333333333,
              "#9c179e"
             ],
             [
              0.4444444444444444,
              "#bd3786"
             ],
             [
              0.5555555555555556,
              "#d8576b"
             ],
             [
              0.6666666666666666,
              "#ed7953"
             ],
             [
              0.7777777777777778,
              "#fb9f3a"
             ],
             [
              0.8888888888888888,
              "#fdca26"
             ],
             [
              1,
              "#f0f921"
             ]
            ],
            "type": "histogram2dcontour"
           }
          ],
          "mesh3d": [
           {
            "colorbar": {
             "outlinewidth": 0,
             "ticks": ""
            },
            "type": "mesh3d"
           }
          ],
          "parcoords": [
           {
            "line": {
             "colorbar": {
              "outlinewidth": 0,
              "ticks": ""
             }
            },
            "type": "parcoords"
           }
          ],
          "pie": [
           {
            "automargin": true,
            "type": "pie"
           }
          ],
          "scatter": [
           {
            "fillpattern": {
             "fillmode": "overlay",
             "size": 10,
             "solidity": 0.2
            },
            "type": "scatter"
           }
          ],
          "scatter3d": [
           {
            "line": {
             "colorbar": {
              "outlinewidth": 0,
              "ticks": ""
             }
            },
            "marker": {
             "colorbar": {
              "outlinewidth": 0,
              "ticks": ""
             }
            },
            "type": "scatter3d"
           }
          ],
          "scattercarpet": [
           {
            "marker": {
             "colorbar": {
              "outlinewidth": 0,
              "ticks": ""
             }
            },
            "type": "scattercarpet"
           }
          ],
          "scattergeo": [
           {
            "marker": {
             "colorbar": {
              "outlinewidth": 0,
              "ticks": ""
             }
            },
            "type": "scattergeo"
           }
          ],
          "scattergl": [
           {
            "marker": {
             "colorbar": {
              "outlinewidth": 0,
              "ticks": ""
             }
            },
            "type": "scattergl"
           }
          ],
          "scattermapbox": [
           {
            "marker": {
             "colorbar": {
              "outlinewidth": 0,
              "ticks": ""
             }
            },
            "type": "scattermapbox"
           }
          ],
          "scatterpolar": [
           {
            "marker": {
             "colorbar": {
              "outlinewidth": 0,
              "ticks": ""
             }
            },
            "type": "scatterpolar"
           }
          ],
          "scatterpolargl": [
           {
            "marker": {
             "colorbar": {
              "outlinewidth": 0,
              "ticks": ""
             }
            },
            "type": "scatterpolargl"
           }
          ],
          "scatterternary": [
           {
            "marker": {
             "colorbar": {
              "outlinewidth": 0,
              "ticks": ""
             }
            },
            "type": "scatterternary"
           }
          ],
          "surface": [
           {
            "colorbar": {
             "outlinewidth": 0,
             "ticks": ""
            },
            "colorscale": [
             [
              0,
              "#0d0887"
             ],
             [
              0.1111111111111111,
              "#46039f"
             ],
             [
              0.2222222222222222,
              "#7201a8"
             ],
             [
              0.3333333333333333,
              "#9c179e"
             ],
             [
              0.4444444444444444,
              "#bd3786"
             ],
             [
              0.5555555555555556,
              "#d8576b"
             ],
             [
              0.6666666666666666,
              "#ed7953"
             ],
             [
              0.7777777777777778,
              "#fb9f3a"
             ],
             [
              0.8888888888888888,
              "#fdca26"
             ],
             [
              1,
              "#f0f921"
             ]
            ],
            "type": "surface"
           }
          ],
          "table": [
           {
            "cells": {
             "fill": {
              "color": "#EBF0F8"
             },
             "line": {
              "color": "white"
             }
            },
            "header": {
             "fill": {
              "color": "#C8D4E3"
             },
             "line": {
              "color": "white"
             }
            },
            "type": "table"
           }
          ]
         },
         "layout": {
          "annotationdefaults": {
           "arrowcolor": "#2a3f5f",
           "arrowhead": 0,
           "arrowwidth": 1
          },
          "autotypenumbers": "strict",
          "coloraxis": {
           "colorbar": {
            "outlinewidth": 0,
            "ticks": ""
           }
          },
          "colorscale": {
           "diverging": [
            [
             0,
             "#8e0152"
            ],
            [
             0.1,
             "#c51b7d"
            ],
            [
             0.2,
             "#de77ae"
            ],
            [
             0.3,
             "#f1b6da"
            ],
            [
             0.4,
             "#fde0ef"
            ],
            [
             0.5,
             "#f7f7f7"
            ],
            [
             0.6,
             "#e6f5d0"
            ],
            [
             0.7,
             "#b8e186"
            ],
            [
             0.8,
             "#7fbc41"
            ],
            [
             0.9,
             "#4d9221"
            ],
            [
             1,
             "#276419"
            ]
           ],
           "sequential": [
            [
             0,
             "#0d0887"
            ],
            [
             0.1111111111111111,
             "#46039f"
            ],
            [
             0.2222222222222222,
             "#7201a8"
            ],
            [
             0.3333333333333333,
             "#9c179e"
            ],
            [
             0.4444444444444444,
             "#bd3786"
            ],
            [
             0.5555555555555556,
             "#d8576b"
            ],
            [
             0.6666666666666666,
             "#ed7953"
            ],
            [
             0.7777777777777778,
             "#fb9f3a"
            ],
            [
             0.8888888888888888,
             "#fdca26"
            ],
            [
             1,
             "#f0f921"
            ]
           ],
           "sequentialminus": [
            [
             0,
             "#0d0887"
            ],
            [
             0.1111111111111111,
             "#46039f"
            ],
            [
             0.2222222222222222,
             "#7201a8"
            ],
            [
             0.3333333333333333,
             "#9c179e"
            ],
            [
             0.4444444444444444,
             "#bd3786"
            ],
            [
             0.5555555555555556,
             "#d8576b"
            ],
            [
             0.6666666666666666,
             "#ed7953"
            ],
            [
             0.7777777777777778,
             "#fb9f3a"
            ],
            [
             0.8888888888888888,
             "#fdca26"
            ],
            [
             1,
             "#f0f921"
            ]
           ]
          },
          "colorway": [
           "#636efa",
           "#EF553B",
           "#00cc96",
           "#ab63fa",
           "#FFA15A",
           "#19d3f3",
           "#FF6692",
           "#B6E880",
           "#FF97FF",
           "#FECB52"
          ],
          "font": {
           "color": "#2a3f5f"
          },
          "geo": {
           "bgcolor": "white",
           "lakecolor": "white",
           "landcolor": "#E5ECF6",
           "showlakes": true,
           "showland": true,
           "subunitcolor": "white"
          },
          "hoverlabel": {
           "align": "left"
          },
          "hovermode": "closest",
          "mapbox": {
           "style": "light"
          },
          "paper_bgcolor": "white",
          "plot_bgcolor": "#E5ECF6",
          "polar": {
           "angularaxis": {
            "gridcolor": "white",
            "linecolor": "white",
            "ticks": ""
           },
           "bgcolor": "#E5ECF6",
           "radialaxis": {
            "gridcolor": "white",
            "linecolor": "white",
            "ticks": ""
           }
          },
          "scene": {
           "xaxis": {
            "backgroundcolor": "#E5ECF6",
            "gridcolor": "white",
            "gridwidth": 2,
            "linecolor": "white",
            "showbackground": true,
            "ticks": "",
            "zerolinecolor": "white"
           },
           "yaxis": {
            "backgroundcolor": "#E5ECF6",
            "gridcolor": "white",
            "gridwidth": 2,
            "linecolor": "white",
            "showbackground": true,
            "ticks": "",
            "zerolinecolor": "white"
           },
           "zaxis": {
            "backgroundcolor": "#E5ECF6",
            "gridcolor": "white",
            "gridwidth": 2,
            "linecolor": "white",
            "showbackground": true,
            "ticks": "",
            "zerolinecolor": "white"
           }
          },
          "shapedefaults": {
           "line": {
            "color": "#2a3f5f"
           }
          },
          "ternary": {
           "aaxis": {
            "gridcolor": "white",
            "linecolor": "white",
            "ticks": ""
           },
           "baxis": {
            "gridcolor": "white",
            "linecolor": "white",
            "ticks": ""
           },
           "bgcolor": "#E5ECF6",
           "caxis": {
            "gridcolor": "white",
            "linecolor": "white",
            "ticks": ""
           }
          },
          "title": {
           "x": 0.05
          },
          "xaxis": {
           "automargin": true,
           "gridcolor": "white",
           "linecolor": "white",
           "ticks": "",
           "title": {
            "standoff": 15
           },
           "zerolinecolor": "white",
           "zerolinewidth": 2
          },
          "yaxis": {
           "automargin": true,
           "gridcolor": "white",
           "linecolor": "white",
           "ticks": "",
           "title": {
            "standoff": 15
           },
           "zerolinecolor": "white",
           "zerolinewidth": 2
          }
         }
        },
        "xaxis": {
         "anchor": "y",
         "domain": [
          0,
          1
         ]
        },
        "yaxis": {
         "anchor": "x",
         "domain": [
          0,
          1
         ]
        }
       }
      }
     },
     "metadata": {},
     "output_type": "display_data"
    }
   ],
   "source": [
    "img = Image.open(TRAIN_IMG+'2220.png')\n",
    "img_array = np.asarray(img)\n",
    "px.imshow(img_array)"
   ]
  },
  {
   "cell_type": "code",
   "execution_count": 22,
   "metadata": {},
   "outputs": [
    {
     "data": {
      "text/plain": [
       "array([35, 31, 14], dtype=uint8)"
      ]
     },
     "execution_count": 22,
     "metadata": {},
     "output_type": "execute_result"
    }
   ],
   "source": [
    "img_array[0][0]"
   ]
  },
  {
   "cell_type": "code",
   "execution_count": 14,
   "metadata": {},
   "outputs": [
    {
     "data": {
      "text/plain": [
       "(332, 332)"
      ]
     },
     "execution_count": 14,
     "metadata": {},
     "output_type": "execute_result"
    }
   ],
   "source": [
    "img.size"
   ]
  },
  {
   "cell_type": "code",
   "execution_count": 6,
   "metadata": {},
   "outputs": [
    {
     "data": {
      "text/plain": [
       "'RGB'"
      ]
     },
     "execution_count": 6,
     "metadata": {},
     "output_type": "execute_result"
    }
   ],
   "source": [
    "img.mode"
   ]
  },
  {
   "cell_type": "code",
   "execution_count": 35,
   "metadata": {},
   "outputs": [],
   "source": [
    "def imshow(img):\n",
    "  img = img / 2 + 0.5 \n",
    "  npimg = img.numpy() \n",
    "  px.imshow(np.transpose(npimg, (1, 2, 0)))\n",
    "  "
   ]
  },
  {
   "cell_type": "markdown",
   "metadata": {},
   "source": [
    "# Custom Dataset and Dataloader"
   ]
  },
  {
   "cell_type": "code",
   "execution_count": 34,
   "metadata": {},
   "outputs": [
    {
     "name": "stdout",
     "output_type": "stream",
     "text": [
      "tensor(0)\n"
     ]
    },
    {
     "ename": "AttributeError",
     "evalue": "module 'plotly.express' has no attribute 'show'",
     "output_type": "error",
     "traceback": [
      "\u001b[0;31m---------------------------------------------------------------------------\u001b[0m",
      "\u001b[0;31mAttributeError\u001b[0m                            Traceback (most recent call last)",
      "\u001b[1;32m/Users/wildbass/Documents/DataScience/se-hackathon22/src/eda.ipynb Celda 11\u001b[0m in \u001b[0;36m<cell line: 32>\u001b[0;34m()\u001b[0m\n\u001b[1;32m     <a href='vscode-notebook-cell:/Users/wildbass/Documents/DataScience/se-hackathon22/src/eda.ipynb#W4sZmlsZQ%3D%3D?line=29'>30</a>\u001b[0m sample \u001b[39m=\u001b[39m \u001b[39mnext\u001b[39m(\u001b[39miter\u001b[39m(train_DL))\n\u001b[1;32m     <a href='vscode-notebook-cell:/Users/wildbass/Documents/DataScience/se-hackathon22/src/eda.ipynb#W4sZmlsZQ%3D%3D?line=30'>31</a>\u001b[0m \u001b[39mprint\u001b[39m(sample[\u001b[39m'\u001b[39m\u001b[39mlabels\u001b[39m\u001b[39m'\u001b[39m][\u001b[39m0\u001b[39m])\n\u001b[0;32m---> <a href='vscode-notebook-cell:/Users/wildbass/Documents/DataScience/se-hackathon22/src/eda.ipynb#W4sZmlsZQ%3D%3D?line=31'>32</a>\u001b[0m imshow(sample[\u001b[39m'\u001b[39;49m\u001b[39mimage\u001b[39;49m\u001b[39m'\u001b[39;49m][\u001b[39m0\u001b[39;49m])\n",
      "\u001b[1;32m/Users/wildbass/Documents/DataScience/se-hackathon22/src/eda.ipynb Celda 11\u001b[0m in \u001b[0;36mimshow\u001b[0;34m(img)\u001b[0m\n\u001b[1;32m      <a href='vscode-notebook-cell:/Users/wildbass/Documents/DataScience/se-hackathon22/src/eda.ipynb#W4sZmlsZQ%3D%3D?line=2'>3</a>\u001b[0m npimg \u001b[39m=\u001b[39m img\u001b[39m.\u001b[39mnumpy() \n\u001b[1;32m      <a href='vscode-notebook-cell:/Users/wildbass/Documents/DataScience/se-hackathon22/src/eda.ipynb#W4sZmlsZQ%3D%3D?line=3'>4</a>\u001b[0m px\u001b[39m.\u001b[39mimshow(np\u001b[39m.\u001b[39mtranspose(npimg, (\u001b[39m1\u001b[39m, \u001b[39m2\u001b[39m, \u001b[39m0\u001b[39m)))\n\u001b[0;32m----> <a href='vscode-notebook-cell:/Users/wildbass/Documents/DataScience/se-hackathon22/src/eda.ipynb#W4sZmlsZQ%3D%3D?line=4'>5</a>\u001b[0m px\u001b[39m.\u001b[39;49mshow()\n",
      "\u001b[0;31mAttributeError\u001b[0m: module 'plotly.express' has no attribute 'show'"
     ]
    }
   ],
   "source": [
    "class ImageDataset(Dataset):\n",
    "  def __init__(self,df,data_folder,transform):\n",
    "    self.df = df\n",
    "    self.transform = transform\n",
    "    self.img_folder = data_folder\n",
    "     \n",
    "    self.image_names = self.df[:]['example_path']\n",
    "    self.labels = self.df[:]['label']\n",
    "   \n",
    "  def __len__(self):\n",
    "    return len(self.image_names)\n",
    " \n",
    "  def __getitem__(self,index):\n",
    "     \n",
    "    image=Image.open(self.img_folder+self.image_names.iloc[index])\n",
    "\n",
    "    image=self.transform(image)\n",
    "    targets=self.labels[index]\n",
    "     \n",
    "    sample = {'image': image,'labels':targets}\n",
    " \n",
    "    return sample\n",
    "\n",
    "train_transform = transforms.Compose([\n",
    "                       transforms.ToTensor(), \n",
    "                       transforms.Normalize((0.5, 0.5, 0.5), (0.5, 0.5, 0.5))])\n",
    "\n",
    "train_data = ImageDataset(train_df, '../data/', train_transform)\n",
    "train_DL = DataLoader(train_data, batch_size=20,shuffle=True)\n",
    "sample = next(iter(train_DL))\n",
    "print(sample['labels'][0])\n",
    "img = (sample['image'][0] / 2 + 0.5 )\n",
    "npimg = img.numpy() \n",
    "px.imshow(np.transpose(npimg, (1, 2, 0)))"
   ]
  },
  {
   "cell_type": "code",
   "execution_count": 16,
   "metadata": {},
   "outputs": [
    {
     "data": {
      "text/plain": [
       "[3, 332, 332]"
      ]
     },
     "execution_count": 16,
     "metadata": {},
     "output_type": "execute_result"
    }
   ],
   "source": [
    "list(sample['image'][0].shape)"
   ]
  },
  {
   "cell_type": "code",
   "execution_count": 17,
   "metadata": {},
   "outputs": [
    {
     "data": {
      "text/plain": [
       "Net(\n",
       "  (conv): Sequential(\n",
       "    (0): Conv2d(3, 6, kernel_size=(5, 5), stride=(1, 1))\n",
       "    (1): ReLU()\n",
       "    (2): MaxPool2d(kernel_size=2, stride=2, padding=0, dilation=1, ceil_mode=False)\n",
       "    (3): Conv2d(6, 16, kernel_size=(5, 5), stride=(1, 1))\n",
       "    (4): ReLU()\n",
       "    (5): MaxPool2d(kernel_size=2, stride=2, padding=0, dilation=1, ceil_mode=False)\n",
       "  )\n",
       "  (fc): Sequential(\n",
       "    (0): Linear(in_features=102400, out_features=120, bias=True)\n",
       "    (1): ReLU()\n",
       "    (2): Linear(in_features=120, out_features=84, bias=True)\n",
       "    (3): ReLU()\n",
       "    (4): Linear(in_features=84, out_features=3, bias=True)\n",
       "  )\n",
       ")"
      ]
     },
     "execution_count": 17,
     "metadata": {},
     "output_type": "execute_result"
    }
   ],
   "source": [
    "from model import Net\n",
    "\n",
    "net = Net(list(sample['image'][0].shape), classes=3)\n",
    "net"
   ]
  },
  {
   "cell_type": "code",
   "execution_count": 19,
   "metadata": {},
   "outputs": [],
   "source": [
    "loss_func = nn.CrossEntropyLoss()\n",
    "optimizer = optim.SGD(net.parameters(), lr=0.001, momentum=0.9)\n"
   ]
  },
  {
   "cell_type": "markdown",
   "metadata": {},
   "source": [
    "# TRAINING"
   ]
  },
  {
   "cell_type": "code",
   "execution_count": null,
   "metadata": {},
   "outputs": [],
   "source": [
    "start = torch.cuda.Event(enable_timing=True)\n",
    "end = torch.cuda.Event(enable_timing=True)\n",
    "\n",
    "start.record()\n",
    "\n",
    "for epoch in range(2):  # loop over the dataset multiple times\n",
    "\n",
    "    running_loss = 0.0\n",
    "    for i, data in enumerate(train_DL, 0):\n",
    "        # get the inputs; data is a list of [inputs, labels]\n",
    "        inputs, labels = data\n",
    "\n",
    "        # zero the parameter gradients\n",
    "        optimizer.zero_grad()\n",
    "\n",
    "        # forward + backward + optimize\n",
    "        outputs = net(inputs)\n",
    "        loss_func = loss_func(outputs, labels)\n",
    "        loss_func.backward()\n",
    "        optimizer.step()\n",
    "\n",
    "        # print statistics\n",
    "        running_loss += loss_func.item()\n",
    "        if i % 2000 == 1999:    # print every 2000 mini-batches\n",
    "            print('[%d, %5d] loss: %.3f' %\n",
    "                  (epoch + 1, i + 1, running_loss / 2000))\n",
    "            running_loss = 0.0\n",
    "\n",
    "# whatever you are timing goes here\n",
    "end.record()\n",
    "\n",
    "# Waits for everything to finish running\n",
    "torch.cuda.synchronize()\n",
    "\n",
    "print('Finished Training')\n",
    "print(start.elapsed_time(end))  # milliseconds"
   ]
  }
 ],
 "metadata": {
  "kernelspec": {
   "display_name": "Python 3.10.4 ('ds')",
   "language": "python",
   "name": "python3"
  },
  "language_info": {
   "codemirror_mode": {
    "name": "ipython",
    "version": 3
   },
   "file_extension": ".py",
   "mimetype": "text/x-python",
   "name": "python",
   "nbconvert_exporter": "python",
   "pygments_lexer": "ipython3",
   "version": "3.10.4"
  },
  "orig_nbformat": 4,
  "vscode": {
   "interpreter": {
    "hash": "51fb76d8006b5ab0e0c4fcd365bc9e8f1c8f496fafcc4f75d4d513b2517b500d"
   }
  }
 },
 "nbformat": 4,
 "nbformat_minor": 2
}
